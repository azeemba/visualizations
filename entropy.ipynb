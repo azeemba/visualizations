{
 "cells": [
  {
   "cell_type": "code",
   "execution_count": 1,
   "id": "dc30f4b7",
   "metadata": {},
   "outputs": [
    {
     "data": {
      "text/html": [
       "<pre style=\"white-space:pre;overflow-x:auto;line-height:normal;font-family:Menlo,'DejaVu Sans Mono',consolas,'Courier New',monospace\">Manim Community <span style=\"color: #008000; text-decoration-color: #008000\">v0.16.0.post0</span>\n",
       "\n",
       "</pre>\n"
      ],
      "text/plain": [
       "Manim Community \u001b[32mv0.\u001b[0m\u001b[32m16.0\u001b[0m\u001b[32m.post0\u001b[0m\n",
       "\n"
      ]
     },
     "metadata": {},
     "output_type": "display_data"
    }
   ],
   "source": [
    "from manim import *\n",
    "\n",
    "config.verbosity = \"WARNING\""
   ]
  },
  {
   "cell_type": "code",
   "execution_count": 31,
   "id": "6ab01cc9",
   "metadata": {},
   "outputs": [
    {
     "name": "stdout",
     "output_type": "stream",
     "text": [
      "0.49457222338867934 -0.003429109932768113 0.06255251255991533\n"
     ]
    }
   ],
   "source": [
    "import random\n",
    "import statistics\n",
    "# lets write a function to generate...particles with right average\n",
    "\n",
    "def make_n_average(n, avg):\n",
    "    l = []\n",
    "    j = []\n",
    "    k = []\n",
    "    for i in range(n):\n",
    "        l.append(random.random())\n",
    "        j.append(random.gauss(0, 1))\n",
    "        k.append(random.normalvariate(0, 1))\n",
    "    \n",
    "    print(statistics.mean(l), statistics.mean(j), statistics.mean(k))\n",
    "    \n",
    "make_n_average(1000, 1)"
   ]
  },
  {
   "cell_type": "code",
   "execution_count": null,
   "id": "d229c013",
   "metadata": {},
   "outputs": [],
   "source": []
  },
  {
   "cell_type": "code",
   "execution_count": 85,
   "id": "7269e3b1",
   "metadata": {},
   "outputs": [
    {
     "name": "stderr",
     "output_type": "stream",
     "text": [
      "                                                                                                                        \r"
     ]
    },
    {
     "data": {
      "text/html": [
       "<video src=\"media/jupyter/TemperatureEntropy@2023-06-24@21-29-45.mp4\" controls autoplay loop style=\"max-width: 60%;\"  >\n",
       "      Your browser does not support the <code>video</code> element.\n",
       "    </video>"
      ],
      "text/plain": [
       "<IPython.core.display.Video object>"
      ]
     },
     "metadata": {},
     "output_type": "display_data"
    }
   ],
   "source": [
    "%%manim --quality=m -r 720,720 TemperatureEntropy\n",
    "\n",
    "#%%manim --quality=l -r 720,720 --save_last_frame TemperatureEntropy\n",
    "from manim.utils import rate_functions\n",
    "import math\n",
    "import numpy as np\n",
    "import random\n",
    "from scipy.spatial.transform import Rotation as R\n",
    "MAX_VELO = 65\n",
    "class AnimHandler(Animation):\n",
    "    def __init__(self, dots, traced_paths, velo_factors, duration=10, **kwargs):\n",
    "        super().__init__(dots, **kwargs)\n",
    "        self._dots = dots\n",
    "        self._traced = traced_paths\n",
    "        self._alpha = 0\n",
    "        self._duration = duration\n",
    "        \n",
    "        self._bounds = 5.8\n",
    "\n",
    "        self.normalized_acceleration = 5\n",
    "        self.velo_factors = velo_factors\n",
    "        self._dot_colors = []\n",
    "\n",
    "        self.normalized_positions = {}\n",
    "        self.normalized_velocities = {}\n",
    "        self._colors = ['#ffffe0', '#ffecd2', '#ffdac4', '#ffc6b6', '#ffb3a7', '#ff9e99', '#fb8a8c', '#f4777f', '#eb6574', '#e15268', '#d5405e', '#c82d54', '#b81b4a', '#a70842', '#93003a'] \n",
    "        # https://www.vis4.net/palettes/#/9|s|ffffe0,ff005e,93003a|ffffe0,ff005e,93003a|1|1\n",
    "        for i, dot in self._dots.submob_dict.items():\n",
    "            self.normalized_positions[i] = np.array([dot.get_x(), dot.get_y(), dot.get_z()])\n",
    "            theta = random.random()*math.pi*2\n",
    "            self.normalized_velocities[i] = np.array([math.cos(theta), math.sin(theta), 0])*self.velo_factors[i]\n",
    "            color_index = self._colors[round(self.velo_factors[i]/MAX_VELO*(len(self._colors) - 1))]\n",
    "            self._dot_colors.append(color_index)\n",
    "    def interpolate_mobject(self, alpha: float):\n",
    "       \n",
    "        dt = (alpha - self._alpha)*(self._duration/10) #normalize so behavior looks the same as you change duration\n",
    "        for i, dot in self._dots.submob_dict.items():\n",
    "            self.normalized_velocities[i] += self.normalized_velocities[i]*self.normalized_acceleration*dt\n",
    "            self.normalized_positions[i] +=  self.normalized_velocities[i]*dt\n",
    "\n",
    "            for j in range(3):\n",
    "                if self.normalized_positions[i][j] > self._bounds or self.normalized_positions[i][j] < -self._bounds:\n",
    "                    self.normalized_velocities[i][j] *= -1;\n",
    "            target_color = self._dot_colors[i]\n",
    "            dot.set_x(self.normalized_positions[i][0])\n",
    "            dot.set_y(self.normalized_positions[i][1])\n",
    "            dot.set_z(self.normalized_positions[i][2])\n",
    "            dot.set_fill(target_color)\n",
    "            self._traced[i].stroke_color = target_color\n",
    "        \n",
    "        self._alpha = alpha\n",
    "\n",
    "    def reset_for_static(self, duration):\n",
    "        \"\"\"Reset for non-accelerating animation\"\"\"\n",
    "        self._alpha = 0\n",
    "        self.normalized_acceleration = 0\n",
    "        self._colors = [self._colors[-1]]\n",
    "        self._duration = duration\n",
    "        \n",
    "\n",
    "class TemperatureEntropy(Scene):\n",
    "    def construct(self):\n",
    "        box_size = 12\n",
    "        r = Square(side_length=box_size + 0.2, stroke_width=10)\n",
    "        # k = self.make_particle(0, 1, r, 5*5)\n",
    "        buf=0.1\n",
    "        count = 16\n",
    "        count_on_side = math.sqrt(count)\n",
    "        radius = 0.5*(box_size - buf*count_on_side)/count_on_side\n",
    "        circles = VDict([(i, Circle(radius, color=\"#ffffe0\")) for i in range(0, count)])\n",
    "        circles.arrange_in_grid(rows=int(count_on_side), buff=buf)\n",
    "\n",
    "        dots = VDict([(i, Dot(point=c.get_center(), radius=0.2)) for (i,c) in circles.submob_dict.items()])\n",
    "        t = VDict([(i, TracedPath(dot.get_center, dissipating_time=0.5)) for (i, dot) in dots.submob_dict.items()])\n",
    "        self.add(r, dots, t)\n",
    "        a = AnimHandler(dots, t, list(range(1,21)))\n",
    "        \n",
    "        a.reset_for_static(5)\n",
    "        self.play(a, run_time=5, run_func=linear)\n",
    "    # def make_particle(self, index, momentum, box, total_particles):\n",
    "    #     # Assume total_particles is a perfect square\n",
    "    #     center = box.get_center()\n",
    "    #     width = box.width\n",
    "    #     height = box.height\n",
    "    #     count_on_side = math.sqrt(total_particles)\n",
    "    #     radius = 0.5*width/count_on_side\n",
    "    #     x_index = index % count_on_side\n",
    "    #     y_index = index // count_on_side\n",
    "    #     buffer = radius*0.15\n",
    "\n",
    "    #     position = [center[0] - (width/2) + (x_index*radius) + radius + buffer, center[1] - height/2 + y_index*radius + radius + buffer, center[2]]\n",
    "    #     return Circle(radius=radius, arc_center=position)"
   ]
  },
  {
   "cell_type": "code",
   "execution_count": 105,
   "id": "518529a7",
   "metadata": {},
   "outputs": [],
   "source": [
    "equal = [20]*16\n",
    "biased = [5]*12 + [(20*16 - 5*12)/4]*4\n",
    "random.shuffle(equal)\n",
    "random.shuffle(biased)"
   ]
  },
  {
   "cell_type": "code",
   "execution_count": 89,
   "id": "7a2c28a7",
   "metadata": {},
   "outputs": [
    {
     "data": {
      "text/plain": [
       "(20.0, [5, 65.0, 5, 5, 5, 5, 65.0, 5, 5, 5, 65.0, 65.0, 5, 5, 5, 5])"
      ]
     },
     "execution_count": 89,
     "metadata": {},
     "output_type": "execute_result"
    }
   ],
   "source": [
    "statistics.mean(biased), biased"
   ]
  },
  {
   "cell_type": "code",
   "execution_count": 112,
   "id": "3acc9606",
   "metadata": {},
   "outputs": [
    {
     "name": "stderr",
     "output_type": "stream",
     "text": [
      "                                                                                                                        \r"
     ]
    },
    {
     "data": {
      "text/html": [
       "<video src=\"media/jupyter/TemperatureEntropyEqual@2023-06-24@21-40-30.mp4\" controls autoplay loop style=\"max-width: 60%;\"  >\n",
       "      Your browser does not support the <code>video</code> element.\n",
       "    </video>"
      ],
      "text/plain": [
       "<IPython.core.display.Video object>"
      ]
     },
     "metadata": {},
     "output_type": "display_data"
    }
   ],
   "source": [
    "%%manim --quality=m -r 720,720 TemperatureEntropyEqual\n",
    "#%%manim --quality=l -r 720,720 --save_last_frame TemperatureEntropy\n",
    "\n",
    "class TemperatureEntropyEqual(Scene):\n",
    "    def construct(self):\n",
    "        box_size = 12\n",
    "        r = Square(side_length=box_size + 0.2, stroke_width=10)\n",
    "        # k = self.make_particle(0, 1, r, 5*5)\n",
    "        buf=0.1\n",
    "        count = 16\n",
    "        count_on_side = math.sqrt(count)\n",
    "        radius = 0.5*(box_size - buf*count_on_side)/count_on_side\n",
    "        circles = VDict([(i, Circle(radius, color=\"#ffffe0\")) for i in range(0, count)])\n",
    "        circles.arrange_in_grid(rows=int(count_on_side), buff=buf)\n",
    "\n",
    "        dots = VDict([(i, Dot(point=c.get_center(), radius=0.2)) for (i,c) in circles.submob_dict.items()])\n",
    "        t = VDict([(i, TracedPath(dot.get_center, dissipating_time=0.5)) for (i, dot) in dots.submob_dict.items()])\n",
    "        self.add(r, dots, t)\n",
    "        a = AnimHandler(dots, t, equal)\n",
    "        \n",
    "        a.reset_for_static(5)\n",
    "        self.play(a, run_time=5, run_func=linear)"
   ]
  },
  {
   "cell_type": "code",
   "execution_count": 120,
   "id": "515eb5c5",
   "metadata": {},
   "outputs": [
    {
     "name": "stderr",
     "output_type": "stream",
     "text": [
      "                                                                                                                        \r"
     ]
    },
    {
     "data": {
      "text/html": [
       "<video src=\"media/jupyter/TemperatureEntropyBiased@2023-06-24@21-55-03.mp4\" controls autoplay loop style=\"max-width: 60%;\"  >\n",
       "      Your browser does not support the <code>video</code> element.\n",
       "    </video>"
      ],
      "text/plain": [
       "<IPython.core.display.Video object>"
      ]
     },
     "metadata": {},
     "output_type": "display_data"
    }
   ],
   "source": [
    "%%manim --quality=m -r 720,720 TemperatureEntropyBiased\n",
    "#%%manim --quality=l -r 720,720 --save_last_frame TemperatureEntropyBiased\n",
    "\n",
    "\n",
    "class TemperatureEntropyBiased(Scene):\n",
    "    def construct(self):\n",
    "        box_size = 12\n",
    "        r = Square(side_length=box_size + 0.2, stroke_width=10)\n",
    "        # k = self.make_particle(0, 1, r, 5*5)\n",
    "        buf=0.1\n",
    "        count = 16\n",
    "        count_on_side = math.sqrt(count)\n",
    "        radius = 0.5*(box_size - buf*count_on_side)/count_on_side\n",
    "        circles = VDict([(i, Circle(radius, color=\"#ffffe0\")) for i in range(0, count)])\n",
    "        circles.arrange_in_grid(rows=int(count_on_side), buff=buf)\n",
    "\n",
    "        dots = VDict([(i, Dot(point=c.get_center(), radius=0.2)) for (i,c) in circles.submob_dict.items()])\n",
    "        t = VDict([(i, TracedPath(dot.get_center, dissipating_time=0.5)) for (i, dot) in dots.submob_dict.items()])\n",
    "        self.add(r, dots, t)\n",
    "        a = AnimHandler(dots, t, biased)\n",
    "        \n",
    "        a.reset_for_static(5)\n",
    "        self.play(a, run_time=5, run_func=linear)"
   ]
  },
  {
   "cell_type": "code",
   "execution_count": 116,
   "id": "3f9b1e79",
   "metadata": {},
   "outputs": [
    {
     "data": {
      "image/png": "[encoded data removed]",
      "text/plain": [
       "<Figure size 500x300 with 1 Axes>"
      ]
     },
     "metadata": {},
     "output_type": "display_data"
    }
   ],
   "source": [
    "import matplotlib.pyplot as plt\n",
    "\n",
    "fig, ax = plt.subplots(figsize=(5, 3))\n",
    "\n",
    "ax.bar(range(16), biased)\n",
    "\n",
    "ax.set_ylabel('Energy')\n",
    "ax.set_title('')\n",
    "\n",
    "\n",
    "plt.show()"
   ]
  },
  {
   "cell_type": "code",
   "execution_count": 114,
   "id": "636a4b81",
   "metadata": {},
   "outputs": [
    {
     "data": {
      "image/png": "[encoded data removed]",
      "text/plain": [
       "<Figure size 640x480 with 1 Axes>"
      ]
     },
     "metadata": {},
     "output_type": "display_data"
    }
   ],
   "source": [
    "import matplotlib.pyplot as plt\n",
    "\n",
    "fig, ax = plt.subplots()\n",
    "\n",
    "ax.bar(range(16), equal)\n",
    "\n",
    "ax.set_ylabel('Equal')\n",
    "ax.set_title('')\n",
    "\n",
    "\n",
    "plt.show()"
   ]
  },
  {
   "cell_type": "code",
   "execution_count": null,
   "id": "3d991233",
   "metadata": {},
   "outputs": [],
   "source": []
  }
 ],
 "metadata": {
  "kernelspec": {
   "display_name": "Python 3 (ipykernel)",
   "language": "python",
   "name": "python3"
  },
  "language_info": {
   "codemirror_mode": {
    "name": "ipython",
    "version": 3
   },
   "file_extension": ".py",
   "mimetype": "text/x-python",
   "name": "python",
   "nbconvert_exporter": "python",
   "pygments_lexer": "ipython3",
   "version": "3.10.6"
  }
 },
 "nbformat": 4,
 "nbformat_minor": 5
}
