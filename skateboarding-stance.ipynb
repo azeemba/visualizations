{
 "cells": [
  {
   "cell_type": "code",
   "execution_count": 9,
   "metadata": {},
   "outputs": [],
   "source": [
    "import requests\n",
    "import json\n",
    "import time\n",
    "from functools import cache\n",
    "\n",
    "from dataclasses import dataclass \n",
    "from enum import Enum, StrEnum, Flag, auto"
   ]
  },
  {
   "cell_type": "code",
   "execution_count": 6,
   "metadata": {},
   "outputs": [
    {
     "name": "stdout",
     "output_type": "stream",
     "text": [
      "{'allItems': 302, 'countItemsOnPage': 44, 'current': 2, 'next': 'https://wyldata.com/api/iframes/ranking/olympic-paris/?continent=&discipline=2&gender=1&nation=&page=3&type=WITH_NC', 'previous': 'https://wyldata.com/api/iframes/ranking/olympic-paris/?continent=&discipline=2&gender=1&nation=&type=WITH_NC', 'results': [{'id': 3553, 'gender': 1, 'age': 32, 'first_name': 'Carlos', 'last_name': 'Ribeiro', 'avatar': 'https://wyldata.com/media/athletes/148543016309164727214277213777196615881.jpg', 'awards': [], 'profile_banner': None, 'stance': 1, 'country': {'id': 79, 'name': 'Brazil', 'ioc': 'BRA'}, 'sum_points': 6314.0, 'event_stops_scores': {'World Skateboarding Tour - Street Dubai': {'ranking_points': 309.0, 'ranking_points_new': 309.0, 'end_position': 59, 'is_best': True, 'date': '2024-03-10', 'discipline': 'Street'}, 'WST Street World Championship 2023 Tokyo': {'ranking_points': 60.0, 'ranking_points_new': 60.0, 'end_position': 109, 'is_best': False, 'date': '2023-12-17', 'discipline': 'Street'}, 'World Skateboarding Tour Stop Rome Street 2023': {'ranking_points': 3869.0, 'ranking_points_new': 3869.0, 'end_position': 16, 'is_best': True, 'date': '2023-06-25', 'discipline': 'Street'}, 'Street World Championships Sharjah 2022': {'ranking_points': 1412.0, 'ranking_points_new': 1412.0, 'end_position': 40, 'is_best': True, 'date': '2023-02-05', 'discipline': 'Street'}, 'World Street Skateboarding Rome 2022': {'ranking_points': 724.0, 'ranking_points_new': 0.0, 'end_position': 30, 'is_best': True, 'date': '2022-07-03', 'discipline': 'Street'}}, 'rank': 45, 'rank_change': 0, 'birthday': '1991-10-07', 'overview': '', 'height': '', 'weight': None}, {'id': 8720, 'gender': 1, 'age': 22, 'first_name': 'Agustin', 'last_name': 'Aquila', 'avatar': 'https://wyldata.com/media/athletes/288793386916720384260728753041797210887.jpg', 'awards': [], 'profile_banner': None, 'stance': 1, 'country': {'id': 173, 'name': 'Italy', 'ioc': 'ITA'}, 'sum_points': 5982.0, 'event_stops_scores': {'World Skateboarding Tour - Street Dubai': {'ranking_points': 1777.0, 'ranking_points_new': 1777.0, 'end_position': 21, 'is_best': True, 'date': '2024-03-10', 'discipline': 'Street'}, 'WST Street World Championship 2023 Tokyo': {'ranking_points': 1309.0, 'ranking_points_new': 1309.0, 'end_position': 45, 'is_best': True, 'date': '2023-12-17', 'discipline': 'Street'}, 'World Skateboarding Tour - Street Lausanne 2023': {'ranking_points': 382.0, 'ranking_points_new': 382.0, 'end_position': 45, 'is_best': False, 'date': '2023-09-16', 'discipline': 'Street'}, 'World Skateboarding Tour Stop Rome Street 2023': {'ranking_points': 388.0, 'ranking_points_new': 388.0, 'end_position': 44, 'is_best': False, 'date': '2023-06-25', 'discipline': 'Street'}, 'Street World Championships Sharjah 2022': {'ranking_points': 2242.0, 'ranking_points_new': 2242.0, 'end_position': 32, 'is_best': True, 'date': '2023-02-05', 'discipline': 'Street'}, 'World Street Skateboarding Rome 2022': {'ranking_points': 654.0, 'ranking_points_new': 0.0, 'end_position': 32, 'is_best': True, 'date': '2022-07-03', 'discipline': 'Street'}}, 'rank': 46, 'rank_change': 0, 'birthday': '2001-12-12', 'overview': '', 'height': '', 'weight': None}, {'id': 5547, 'gender': 1, 'age': 22, 'first_name': 'Eduardo', 'last_name': 'Neves', 'avatar': 'https://wyldata.com/media/athletes/12761043008080131965648945419735312898.jpg', 'awards': [], 'profile_banner': None, 'stance': 1, 'country': {'id': 79, 'name': 'Brazil', 'ioc': 'BRA'}, 'sum_points': 5879.0, 'event_stops_scores': {'World Skateboarding Tour Stop Rome Street 2023': {'ranking_points': 30.0, 'ranking_points_new': 30.0, 'end_position': 111, 'is_best': True, 'date': '2023-06-25', 'discipline': 'Street'}, 'Street World Championships Sharjah 2022': {'ranking_points': 5484.0, 'ranking_points_new': 5484.0, 'end_position': 22, 'is_best': True, 'date': '2023-02-05', 'discipline': 'Street'}, 'World Street Skateboarding Rome 2022': {'ranking_points': 365.0, 'ranking_points_new': 0.0, 'end_position': 48, 'is_best': True, 'date': '2022-07-03', 'discipline': 'Street'}}, 'rank': 47, 'rank_change': 0, 'birthday': '2002-05-19', 'overview': '', 'height': '', 'weight': None}, {'id': 3633, 'gender': 1, 'age': 26, 'first_name': 'Ivan', 'last_name': 'Monteiro', 'avatar': 'https://wyldata.com/media/athletes/98173878768017358617668239423594885525.jpg', 'awards': [], 'profile_banner': None, 'stance': 2, 'country': {'id': 79, 'name': 'Brazil', 'ioc': 'BRA'}, 'sum_points': 5750.0, 'event_stops_scores': {'World Skateboarding Tour - Street Dubai': {'ranking_points': 944.0, 'ranking_points_new': 944.0, 'end_position': 27, 'is_best': True, 'date': '2024-03-10', 'discipline': 'Street'}, 'WST Street World Championship 2023 Tokyo': {'ranking_points': 1143.0, 'ranking_points_new': 1143.0, 'end_position': 54, 'is_best': True, 'date': '2023-12-17', 'discipline': 'Street'}, 'Street World Championships Sharjah 2022': {'ranking_points': 3598.0, 'ranking_points_new': 3598.0, 'end_position': 26, 'is_best': True, 'date': '2023-02-05', 'discipline': 'Street'}, 'World Street Skateboarding Rome 2022': {'ranking_points': 65.0, 'ranking_points_new': 0.0, 'end_position': 87, 'is_best': True, 'date': '2022-07-03', 'discipline': 'Street'}}, 'rank': 48, 'rank_change': 0, 'birthday': '1997-11-20', 'overview': '', 'height': '', 'weight': None}, {'id': 38572, 'gender': 1, 'age': 30, 'first_name': 'Kilian', 'last_name': 'Zehnder', 'avatar': 'https://wyldata.com/media/athletes/300321250182186707558005682017773547622.jpg', 'awards': [], 'profile_banner': None, 'stance': 1, 'country': {'id': 257, 'name': 'Switzerland', 'ioc': 'SUI'}, 'sum_points': 5555.0, 'event_stops_scores': {'World Skateboarding Tour - Street Dubai': {'ranking_points': 114.0, 'ranking_points_new': 114.0, 'end_position': 76, 'is_best': False, 'date': '2024-03-10', 'discipline': 'Street'}, 'WST Street World Championship 2023 Tokyo': {'ranking_points': 590.0, 'ranking_points_new': 590.0, 'end_position': 68, 'is_best': True, 'date': '2023-12-17', 'discipline': 'Street'}, 'World Skateboarding Tour - Street Lausanne 2023': {'ranking_points': 376.0, 'ranking_points_new': 376.0, 'end_position': 46, 'is_best': True, 'date': '2023-09-16', 'discipline': 'Street'}, 'World Skateboarding Tour Stop Rome Street 2023': {'ranking_points': 147.0, 'ranking_points_new': 147.0, 'end_position': 71, 'is_best': True, 'date': '2023-06-25', 'discipline': 'Street'}, 'Street World Championships Sharjah 2022': {'ranking_points': 4442.0, 'ranking_points_new': 4442.0, 'end_position': 24, 'is_best': True, 'date': '2023-02-05', 'discipline': 'Street'}}, 'rank': 49, 'rank_change': 0, 'birthday': '1993-12-17', 'overview': '', 'height': '', 'weight': None}, {'id': 3893, 'gender': 1, 'age': 23, 'first_name': 'João', 'last_name': 'Lucas', 'avatar': 'https://wyldata.com/media/athletes/77406789269448159084495750913561651264.jpg', 'awards': [], 'profile_banner': None, 'stance': 1, 'country': {'id': 79, 'name': 'Brazil', 'ioc': 'BRA'}, 'sum_points': 5255.0, 'event_stops_scores': {'World Skateboarding Tour - Street Dubai': {'ranking_points': 431.0, 'ranking_points_new': 431.0, 'end_position': 37, 'is_best': False, 'date': '2024-03-10', 'discipline': 'Street'}, 'WST Street World Championship 2023 Tokyo': {'ranking_points': 1092.0, 'ranking_points_new': 1092.0, 'end_position': 57, 'is_best': True, 'date': '2023-12-17', 'discipline': 'Street'}, 'World Skateboarding Tour - Street Lausanne 2023': {'ranking_points': 458.0, 'ranking_points_new': 458.0, 'end_position': 33, 'is_best': True, 'date': '2023-09-16', 'discipline': 'Street'}, 'World Skateboarding Tour Stop Rome Street 2023': {'ranking_points': 370.0, 'ranking_points_new': 370.0, 'end_position': 47, 'is_best': False, 'date': '2023-06-25', 'discipline': 'Street'}, 'Street World Championships Sharjah 2022': {'ranking_points': 997.0, 'ranking_points_new': 997.0, 'end_position': 63, 'is_best': True, 'date': '2023-02-05', 'discipline': 'Street'}, 'World Street Skateboarding Rome 2022': {'ranking_points': 2708.0, 'ranking_points_new': 0.0, 'end_position': 17, 'is_best': True, 'date': '2022-07-03', 'discipline': 'Street'}}, 'rank': 50, 'rank_change': 0, 'birthday': '2001-01-19', 'overview': '', 'height': '', 'weight': None}, {'id': 3687, 'gender': 1, 'age': 23, 'first_name': 'Gabriel', 'last_name': 'Ribeiro', 'avatar': 'https://wyldata.com/media/athletes/250712107453722017637496798159431450307.jpg', 'awards': [], 'profile_banner': None, 'stance': 1, 'country': {'id': 233, 'name': 'Portugal', 'ioc': 'POR'}, 'sum_points': 4533.0, 'event_stops_scores': {'World Skateboarding Tour - Street Dubai': {'ranking_points': 304.0, 'ranking_points_new': 304.0, 'end_position': 60, 'is_best': False, 'date': '2024-03-10', 'discipline': 'Street'}, 'WST Street World Championship 2023 Tokyo': {'ranking_points': 140.0, 'ranking_points_new': 140.0, 'end_position': 96, 'is_best': False, 'date': '2023-12-17', 'discipline': 'Street'}, 'World Skateboarding Tour - Street Lausanne 2023': {'ranking_points': 1599.0, 'ranking_points_new': 1599.0, 'end_position': 22, 'is_best': True, 'date': '2023-09-16', 'discipline': 'Street'}, 'World Skateboarding Tour Stop Rome Street 2023': {'ranking_points': 444.0, 'ranking_points_new': 444.0, 'end_position': 35, 'is_best': True, 'date': '2023-06-25', 'discipline': 'Street'}, 'Street World Championships Sharjah 2022': {'ranking_points': 1546.0, 'ranking_points_new': 1546.0, 'end_position': 34, 'is_best': True, 'date': '2023-02-05', 'discipline': 'Street'}, 'World Street Skateboarding Rome 2022': {'ranking_points': 944.0, 'ranking_points_new': 0.0, 'end_position': 27, 'is_best': True, 'date': '2022-07-03', 'discipline': 'Street'}}, 'rank': 51, 'rank_change': 0, 'birthday': '2001-03-27', 'overview': '', 'height': '', 'weight': None}, {'id': 3253, 'gender': 1, 'age': 25, 'first_name': 'Pool', 'last_name': 'Bellido', 'avatar': 'https://wyldata.com/media/athletes/210514912640556095582669112470253249040.jpg', 'awards': [], 'profile_banner': None, 'stance': 2, 'country': {'id': 227, 'name': 'Peru', 'ioc': 'PER'}, 'sum_points': 4432.0, 'event_stops_scores': {'World Skateboarding Tour - Street Dubai': {'ranking_points': 2708.0, 'ranking_points_new': 2708.0, 'end_position': 17, 'is_best': True, 'date': '2024-03-10', 'discipline': 'Street'}, 'Street World Championships Sharjah 2022': {'ranking_points': 1370.0, 'ranking_points_new': 1370.0, 'end_position': 42, 'is_best': True, 'date': '2023-02-05', 'discipline': 'Street'}, 'World Street Skateboarding Rome 2022': {'ranking_points': 354.0, 'ranking_points_new': 0.0, 'end_position': 50, 'is_best': True, 'date': '2022-07-03', 'discipline': 'Street'}}, 'rank': 52, 'rank_change': 0, 'birthday': '1998-09-05', 'overview': '', 'height': '', 'weight': None}, {'id': 38784, 'gender': 1, 'age': 17, 'first_name': 'Daniel', 'last_name': 'Woolley', 'avatar': None, 'awards': [], 'profile_banner': None, 'stance': 1, 'country': {'id': 4, 'name': 'Australia', 'ioc': 'AUS'}, 'sum_points': 4167.0, 'event_stops_scores': {'World Skateboarding Tour - Street Dubai': {'ranking_points': 370.0, 'ranking_points_new': 370.0, 'end_position': 47, 'is_best': True, 'date': '2024-03-10', 'discipline': 'Street'}, 'WST Street World Championship 2023 Tokyo': {'ranking_points': 2242.0, 'ranking_points_new': 2242.0, 'end_position': 32, 'is_best': True, 'date': '2023-12-17', 'discipline': 'Street'}, 'World Skateboarding Tour - Street Lausanne 2023': {'ranking_points': 304.0, 'ranking_points_new': 304.0, 'end_position': 60, 'is_best': True, 'date': '2023-09-16', 'discipline': 'Street'}, 'Street World Championships Sharjah 2022': {'ranking_points': 1251.0, 'ranking_points_new': 1251.0, 'end_position': 48, 'is_best': True, 'date': '2023-02-05', 'discipline': 'Street'}}, 'rank': 53, 'rank_change': 0, 'birthday': '2007-04-13', 'overview': '', 'height': '', 'weight': None}, {'id': 9349, 'gender': 1, 'age': 16, 'first_name': 'Yakov', 'last_name': 'Terrell', 'avatar': 'https://wyldata.com/media/athletes/97218981535032009111583455679403954319.jpg', 'awards': [], 'profile_banner': None, 'stance': 1, 'country': {'id': 171, 'name': 'Israel', 'ioc': 'ISR'}, 'sum_points': 4020.0, 'event_stops_scores': {'World Skateboarding Tour - Street Dubai': {'ranking_points': 155.0, 'ranking_points_new': 155.0, 'end_position': 70, 'is_best': True, 'date': '2024-03-10', 'discipline': 'Street'}, 'WST Street World Championship 2023 Tokyo': {'ranking_points': 1289.0, 'ranking_points_new': 1289.0, 'end_position': 46, 'is_best': True, 'date': '2023-12-17', 'discipline': 'Street'}, 'World Skateboarding Tour - Street Lausanne 2023': {'ranking_points': 2194.0, 'ranking_points_new': 2194.0, 'end_position': 19, 'is_best': True, 'date': '2023-09-16', 'discipline': 'Street'}, 'World Skateboarding Tour Stop Rome Street 2023': {'ranking_points': 382.0, 'ranking_points_new': 382.0, 'end_position': 45, 'is_best': True, 'date': '2023-06-25', 'discipline': 'Street'}, 'Street World Championships Sharjah 2022': {'ranking_points': 60.0, 'ranking_points_new': 60.0, 'end_position': 117, 'is_best': False, 'date': '2023-02-05', 'discipline': 'Street'}, 'World Street Skateboarding Rome 2022': {'ranking_points': 45.0, 'ranking_points_new': 0.0, 'end_position': 94, 'is_best': False, 'date': '2022-07-03', 'discipline': 'Street'}}, 'rank': 54, 'rank_change': 0, 'birthday': '2007-11-22', 'overview': '', 'height': '', 'weight': None}, {'id': 8154, 'gender': 1, 'age': 18, 'first_name': 'Lazer', 'last_name': 'Crawford', 'avatar': 'https://wyldata.com/media/athletes/244316808510480792008439579642104616029.jpg', 'awards': [], 'profile_banner': None, 'stance': 2, 'country': {'id': 3, 'name': 'United States of America', 'ioc': 'USA'}, 'sum_points': 3959.0, 'event_stops_scores': {'WST Street World Championship 2023 Tokyo': {'ranking_points': 1329.0, 'ranking_points_new': 1329.0, 'end_position': 44, 'is_best': True, 'date': '2023-12-17', 'discipline': 'Street'}, 'World Skateboarding Tour - Street Lausanne 2023': {'ranking_points': 349.0, 'ranking_points_new': 349.0, 'end_position': 51, 'is_best': True, 'date': '2023-09-16', 'discipline': 'Street'}, 'World Skateboarding Tour Stop Rome Street 2023': {'ranking_points': 1049.0, 'ranking_points_new': 1049.0, 'end_position': 26, 'is_best': True, 'date': '2023-06-25', 'discipline': 'Street'}, 'Street World Championships Sharjah 2022': {'ranking_points': 1232.0, 'ranking_points_new': 1232.0, 'end_position': 49, 'is_best': True, 'date': '2023-02-05', 'discipline': 'Street'}}, 'rank': 55, 'rank_change': 0, 'birthday': '2005-09-20', 'overview': '', 'height': '', 'weight': None}, {'id': 3048, 'gender': 1, 'age': 18, 'first_name': 'Hampus', 'last_name': 'Winberg', 'avatar': 'https://wyldata.com/media/athletes/126882537606490376397360399780329494817.jpg', 'awards': [], 'profile_banner': 'https://wyldata.com/media/athletes/4392184232512270961461337905535692030.jpg', 'stance': 1, 'country': {'id': 260, 'name': 'Sweden', 'ioc': 'SWE'}, 'sum_points': 3897.0, 'event_stops_scores': {'WST Street World Championship 2023 Tokyo': {'ranking_points': 505.0, 'ranking_points_new': 505.0, 'end_position': 71, 'is_best': True, 'date': '2023-12-17', 'discipline': 'Street'}, 'World Skateboarding Tour - Street Lausanne 2023': {'ranking_points': 80.0, 'ranking_points_new': 80.0, 'end_position': 83, 'is_best': False, 'date': '2023-09-16', 'discipline': 'Street'}, 'World Skateboarding Tour Stop Rome Street 2023': {'ranking_points': 406.0, 'ranking_points_new': 406.0, 'end_position': 41, 'is_best': True, 'date': '2023-06-25', 'discipline': 'Street'}, 'Street World Championships Sharjah 2022': {'ranking_points': 1012.0, 'ranking_points_new': 1012.0, 'end_position': 62, 'is_best': True, 'date': '2023-02-05', 'discipline': 'Street'}, 'World Street Skateboarding Rome 2022': {'ranking_points': 1974.0, 'ranking_points_new': 0.0, 'end_position': 20, 'is_best': True, 'date': '2022-07-03', 'discipline': 'Street'}}, 'rank': 56, 'rank_change': 0, 'birthday': '2006-06-22', 'overview': 'Sweden’s Hampus Winberg is one of Europe’s top prospects in Skateboard Park. Able to execute 720’s and skating since age 6, he has been unlucky with sponsorship in that his board sponsor Madness Skateboards collapsed in 2023, but with such an all-terrain ability that he also entered Street contests as well as Park in 2022 he is sure to be snapped up soon.', 'height': '', 'weight': None}, {'id': 3332, 'gender': 1, 'age': 18, 'first_name': 'Sena', 'last_name': 'Watanabe', 'avatar': None, 'awards': [], 'profile_banner': None, 'stance': 2, 'country': {'id': 177, 'name': 'Japan', 'ioc': 'JPN'}, 'sum_points': 3869.0, 'event_stops_scores': {'World Skateboarding Tour - Street Dubai': {'ranking_points': 3869.0, 'ranking_points_new': 3869.0, 'end_position': 16, 'is_best': True, 'date': '2024-03-10', 'discipline': 'Street'}}, 'rank': 57, 'rank_change': 0, 'birthday': '2006-07-19', 'overview': '', 'height': '', 'weight': None}, {'id': 9337, 'gender': 1, 'age': 28, 'first_name': 'John', 'last_name': 'Purcell', 'avatar': 'https://wyldata.com/media/athletes/201777513416634244598817587965251195061.jpg', 'awards': [], 'profile_banner': None, 'stance': 2, 'country': {'id': 80, 'name': 'Canada', 'ioc': 'CAN'}, 'sum_points': 3711.0, 'event_stops_scores': {'World Skateboarding Tour - Street Dubai': {'ranking_points': 399.0, 'ranking_points_new': 399.0, 'end_position': 42, 'is_best': True, 'date': '2024-03-10', 'discipline': 'Street'}, 'WST Street World Championship 2023 Tokyo': {'ranking_points': 1455.0, 'ranking_points_new': 1455.0, 'end_position': 38, 'is_best': True, 'date': '2023-12-17', 'discipline': 'Street'}, 'World Skateboarding Tour - Street Lausanne 2023': {'ranking_points': 50.0, 'ranking_points_new': 50.0, 'end_position': 92, 'is_best': False, 'date': '2023-09-16', 'discipline': 'Street'}, 'World Skateboarding Tour Stop Rome Street 2023': {'ranking_points': 349.0, 'ranking_points_new': 349.0, 'end_position': 51, 'is_best': False, 'date': '2023-06-25', 'discipline': 'Street'}, 'Street World Championships Sharjah 2022': {'ranking_points': 1433.0, 'ranking_points_new': 1433.0, 'end_position': 39, 'is_best': True, 'date': '2023-02-05', 'discipline': 'Street'}, 'World Street Skateboarding Rome 2022': {'ranking_points': 424.0, 'ranking_points_new': 0.0, 'end_position': 38, 'is_best': True, 'date': '2022-07-03', 'discipline': 'Street'}}, 'rank': 58, 'rank_change': 0, 'birthday': '1996-02-26', 'overview': '', 'height': '', 'weight': None}, {'id': 7470, 'gender': 1, 'age': 15, 'first_name': 'Madu', 'last_name': 'Teixeira', 'avatar': 'https://wyldata.com/media/athletes/123982111195635381248869178133450247439.jpg', 'awards': [], 'profile_banner': None, 'stance': 2, 'country': {'id': 233, 'name': 'Portugal', 'ioc': 'POR'}, 'sum_points': 3567.0, 'event_stops_scores': {'World Skateboarding Tour - Street Dubai': {'ranking_points': 1599.0, 'ranking_points_new': 1599.0, 'end_position': 22, 'is_best': True, 'date': '2024-03-10', 'discipline': 'Street'}, 'WST Street World Championship 2023 Tokyo': {'ranking_points': 1433.0, 'ranking_points_new': 1433.0, 'end_position': 39, 'is_best': True, 'date': '2023-12-17', 'discipline': 'Street'}, 'World Skateboarding Tour - Street Lausanne 2023': {'ranking_points': 354.0, 'ranking_points_new': 354.0, 'end_position': 50, 'is_best': True, 'date': '2023-09-16', 'discipline': 'Street'}, 'World Skateboarding Tour Stop Rome Street 2023': {'ranking_points': 181.0, 'ranking_points_new': 181.0, 'end_position': 67, 'is_best': True, 'date': '2023-06-25', 'discipline': 'Street'}, 'Street World Championships Sharjah 2022': {'ranking_points': 60.0, 'ranking_points_new': 60.0, 'end_position': 105, 'is_best': False, 'date': '2023-02-05', 'discipline': 'Street'}, 'World Street Skateboarding Rome 2022': {'ranking_points': 30.0, 'ranking_points_new': 0.0, 'end_position': 112, 'is_best': False, 'date': '2022-07-03', 'discipline': 'Street'}}, 'rank': 59, 'rank_change': 0, 'birthday': '2008-12-01', 'overview': '', 'height': '', 'weight': None}, {'id': 8718, 'gender': 1, 'age': 16, 'first_name': 'Jihoon', 'last_name': 'Jeong', 'avatar': 'https://wyldata.com/media/athletes/74135547001446465399230327085074037793.jpg', 'awards': [], 'profile_banner': None, 'stance': 2, 'country': {'id': 78, 'name': 'Korea', 'ioc': 'KOR'}, 'sum_points': 3299.0, 'event_stops_scores': {'World Skateboarding Tour - Street Dubai': {'ranking_points': 181.0, 'ranking_points_new': 181.0, 'end_position': 67, 'is_best': True, 'date': '2024-03-10', 'discipline': 'Street'}, 'WST Street World Championship 2023 Tokyo': {'ranking_points': 1196.0, 'ranking_points_new': 1196.0, 'end_position': 51, 'is_best': True, 'date': '2023-12-17', 'discipline': 'Street'}, 'World Skateboarding Tour - Street Lausanne 2023': {'ranking_points': 323.0, 'ranking_points_new': 323.0, 'end_position': 56, 'is_best': True, 'date': '2023-09-16', 'discipline': 'Street'}, 'World Skateboarding Tour Stop Rome Street 2023': {'ranking_points': 35.0, 'ranking_points_new': 35.0, 'end_position': 99, 'is_best': False, 'date': '2023-06-25', 'discipline': 'Street'}, 'Street World Championships Sharjah 2022': {'ranking_points': 60.0, 'ranking_points_new': 60.0, 'end_position': 135, 'is_best': False, 'date': '2023-02-05', 'discipline': 'Street'}, 'World Street Skateboarding Rome 2022': {'ranking_points': 1599.0, 'ranking_points_new': 0.0, 'end_position': 22, 'is_best': True, 'date': '2022-07-03', 'discipline': 'Street'}}, 'rank': 60, 'rank_change': 0, 'birthday': '2007-12-01', 'overview': '', 'height': '', 'weight': None}, {'id': 3467, 'gender': 1, 'age': 38, 'first_name': 'Manny', 'last_name': 'Santiago', 'avatar': 'https://wyldata.com/media/athletes/13641744939046066323234796223208335113.jpg', 'awards': [], 'profile_banner': None, 'stance': 2, 'country': {'id': 5, 'name': 'Puerto Rico', 'ioc': 'PUR'}, 'sum_points': 3223.0, 'event_stops_scores': {'World Skateboarding Tour - Street Dubai': {'ranking_points': 65.0, 'ranking_points_new': 65.0, 'end_position': 87, 'is_best': False, 'date': '2024-03-10', 'discipline': 'Street'}, 'WST Street World Championship 2023 Tokyo': {'ranking_points': 319.0, 'ranking_points_new': 319.0, 'end_position': 80, 'is_best': True, 'date': '2023-12-17', 'discipline': 'Street'}, 'World Skateboarding Tour - Street Lausanne 2023': {'ranking_points': 286.0, 'ranking_points_new': 286.0, 'end_position': 64, 'is_best': True, 'date': '2023-09-16', 'discipline': 'Street'}, 'World Skateboarding Tour Stop Rome Street 2023': {'ranking_points': 30.0, 'ranking_points_new': 30.0, 'end_position': 117, 'is_best': False, 'date': '2023-06-25', 'discipline': 'Street'}, 'Street World Championships Sharjah 2022': {'ranking_points': 1569.0, 'ranking_points_new': 1569.0, 'end_position': 33, 'is_best': True, 'date': '2023-02-05', 'discipline': 'Street'}, 'World Street Skateboarding Rome 2022': {'ranking_points': 1049.0, 'ranking_points_new': 0.0, 'end_position': 26, 'is_best': True, 'date': '2022-07-03', 'discipline': 'Street'}}, 'rank': 61, 'rank_change': 0, 'birthday': '1985-09-10', 'overview': '', 'height': '', 'weight': None}, {'id': 4119, 'gender': 1, 'age': 21, 'first_name': 'Gabriel', 'last_name': 'Ferrero', 'avatar': 'https://wyldata.com/media/athletes/73182814332965933145802165826448318319.png', 'awards': [], 'profile_banner': None, 'stance': 1, 'country': {'id': 140, 'name': 'Spain', 'ioc': 'ESP'}, 'sum_points': 3048.0, 'event_stops_scores': {'World Skateboarding Tour - Street Dubai': {'ranking_points': 163.0, 'ranking_points_new': 163.0, 'end_position': 69, 'is_best': False, 'date': '2024-03-10', 'discipline': 'Street'}, 'WST Street World Championship 2023 Tokyo': {'ranking_points': 1270.0, 'ranking_points_new': 1270.0, 'end_position': 47, 'is_best': True, 'date': '2023-12-17', 'discipline': 'Street'}, 'World Skateboarding Tour - Street Lausanne 2023': {'ranking_points': 370.0, 'ranking_points_new': 370.0, 'end_position': 47, 'is_best': True, 'date': '2023-09-16', 'discipline': 'Street'}, 'World Skateboarding Tour Stop Rome Street 2023': {'ranking_points': 300.0, 'ranking_points_new': 300.0, 'end_position': 61, 'is_best': True, 'date': '2023-06-25', 'discipline': 'Street'}, 'Street World Championships Sharjah 2022': {'ranking_points': 1108.0, 'ranking_points_new': 1108.0, 'end_position': 56, 'is_best': True, 'date': '2023-02-05', 'discipline': 'Street'}}, 'rank': 62, 'rank_change': 0, 'birthday': '2003-02-23', 'overview': '', 'height': '', 'weight': None}, {'id': 4026, 'gender': 1, 'age': 32, 'first_name': 'Nelson', 'last_name': 'Garza De La Cruz', 'avatar': 'https://wyldata.com/media/athletes/298899796733433863082895293751891730422.jpg', 'awards': [], 'profile_banner': None, 'stance': 1, 'country': {'id': 202, 'name': 'Mexico', 'ioc': 'MEX'}, 'sum_points': 2983.0, 'event_stops_scores': {'WST Street World Championship 2023 Tokyo': {'ranking_points': 60.0, 'ranking_points_new': 60.0, 'end_position': 104, 'is_best': True, 'date': '2023-12-17', 'discipline': 'Street'}, 'World Skateboarding Tour - Street Lausanne 2023': {'ranking_points': 359.0, 'ranking_points_new': 359.0, 'end_position': 49, 'is_best': True, 'date': '2023-09-16', 'discipline': 'Street'}, 'World Skateboarding Tour Stop Rome Street 2023': {'ranking_points': 80.0, 'ranking_points_new': 80.0, 'end_position': 83, 'is_best': True, 'date': '2023-06-25', 'discipline': 'Street'}, 'Street World Championships Sharjah 2022': {'ranking_points': 2484.0, 'ranking_points_new': 2484.0, 'end_position': 30, 'is_best': True, 'date': '2023-02-05', 'discipline': 'Street'}}, 'rank': 63, 'rank_change': 0, 'birthday': '1992-04-22', 'overview': '', 'height': '', 'weight': None}, {'id': 3718, 'gender': 1, 'age': 26, 'first_name': 'Shay', 'last_name': 'Sandiford', 'avatar': 'https://wyldata.com/media/athletes/32947928933851965059772527048659048971.jpg', 'awards': [], 'profile_banner': None, 'stance': 1, 'country': {'id': 80, 'name': 'Canada', 'ioc': 'CAN'}, 'sum_points': 2847.0, 'event_stops_scores': {'World Skateboarding Tour - Street Dubai': {'ranking_points': 98.0, 'ranking_points_new': 98.0, 'end_position': 79, 'is_best': False, 'date': '2024-03-10', 'discipline': 'Street'}, 'WST Street World Championship 2023 Tokyo': {'ranking_points': 433.0, 'ranking_points_new': 433.0, 'end_position': 74, 'is_best': True, 'date': '2023-12-17', 'discipline': 'Street'}, 'World Skateboarding Tour - Street Lausanne 2023': {'ranking_points': 763.0, 'ranking_points_new': 763.0, 'end_position': 29, 'is_best': True, 'date': '2023-09-16', 'discipline': 'Street'}, 'World Skateboarding Tour Stop Rome Street 2023': {'ranking_points': 437.0, 'ranking_points_new': 437.0, 'end_position': 36, 'is_best': True, 'date': '2023-06-25', 'discipline': 'Street'}, 'Street World Championships Sharjah 2022': {'ranking_points': 1214.0, 'ranking_points_new': 1214.0, 'end_position': 50, 'is_best': True, 'date': '2023-02-05', 'discipline': 'Street'}, 'World Street Skateboarding Rome 2022': {'ranking_points': 323.0, 'ranking_points_new': 0.0, 'end_position': 56, 'is_best': False, 'date': '2022-07-03', 'discipline': 'Street'}}, 'rank': 64, 'rank_change': 0, 'birthday': '1997-10-10', 'overview': '', 'height': '', 'weight': None}, {'id': 3056, 'gender': 1, 'age': 31, 'first_name': 'Benjamin', 'last_name': 'Garcia', 'avatar': 'https://wyldata.com/media/athletes/327379103967057916737792580173754359598.jpg', 'awards': [], 'profile_banner': None, 'stance': 1, 'country': {'id': 145, 'name': 'France', 'ioc': 'FRA'}, 'sum_points': 2843.0, 'event_stops_scores': {'WST Street World Championship 2023 Tokyo': {'ranking_points': 1028.0, 'ranking_points_new': 1028.0, 'end_position': 61, 'is_best': True, 'date': '2023-12-17', 'discipline': 'Street'}, 'World Skateboarding Tour Stop Rome Street 2023': {'ranking_points': 338.0, 'ranking_points_new': 338.0, 'end_position': 53, 'is_best': True, 'date': '2023-06-25', 'discipline': 'Street'}, 'Street World Championships Sharjah 2022': {'ranking_points': 1059.0, 'ranking_points_new': 1059.0, 'end_position': 59, 'is_best': True, 'date': '2023-02-05', 'discipline': 'Street'}, 'World Street Skateboarding Rome 2022': {'ranking_points': 418.0, 'ranking_points_new': 0.0, 'end_position': 39, 'is_best': True, 'date': '2022-07-03', 'discipline': 'Street'}}, 'rank': 65, 'rank_change': 0, 'birthday': '1993-05-04', 'overview': '', 'height': '', 'weight': None}, {'id': 3382, 'gender': 1, 'age': 23, 'first_name': 'Simen', 'last_name': 'Hægeland', 'avatar': 'https://wyldata.com/media/athletes/222970033125919879617189351592454625103.jpg', 'awards': [], 'profile_banner': None, 'stance': 1, 'country': {'id': 220, 'name': 'Norway', 'ioc': 'NOR'}, 'sum_points': 2682.0, 'event_stops_scores': {'World Skateboarding Tour - Street Dubai': {'ranking_points': 654.0, 'ranking_points_new': 654.0, 'end_position': 32, 'is_best': True, 'date': '2024-03-10', 'discipline': 'Street'}, 'WST Street World Championship 2023 Tokyo': {'ranking_points': 1370.0, 'ranking_points_new': 1370.0, 'end_position': 42, 'is_best': True, 'date': '2023-12-17', 'discipline': 'Street'}, 'World Skateboarding Tour Stop Rome Street 2023': {'ranking_points': 323.0, 'ranking_points_new': 323.0, 'end_position': 56, 'is_best': True, 'date': '2023-06-25', 'discipline': 'Street'}, 'Street World Championships Sharjah 2022': {'ranking_points': 335.0, 'ranking_points_new': 335.0, 'end_position': 79, 'is_best': True, 'date': '2023-02-05', 'discipline': 'Street'}, 'World Street Skateboarding Rome 2022': {'ranking_points': 147.0, 'ranking_points_new': 0.0, 'end_position': 71, 'is_best': False, 'date': '2022-07-03', 'discipline': 'Street'}}, 'rank': 66, 'rank_change': 0, 'birthday': '2000-12-12', 'overview': '', 'height': '', 'weight': None}, {'id': 3357, 'gender': 1, 'age': 20, 'first_name': 'Bert', 'last_name': 'Wilmink', 'avatar': 'https://wyldata.com/media/athletes/128777415340701694430414738501561560627.jpg', 'awards': [], 'profile_banner': None, 'stance': 1, 'country': {'id': 216, 'name': 'Netherlands', 'ioc': 'NED'}, 'sum_points': 2539.0, 'event_stops_scores': {'World Skateboarding Tour - Street Dubai': {'ranking_points': 323.0, 'ranking_points_new': 323.0, 'end_position': 56, 'is_best': True, 'date': '2024-03-10', 'discipline': 'Street'}, 'WST Street World Championship 2023 Tokyo': {'ranking_points': 1214.0, 'ranking_points_new': 1214.0, 'end_position': 50, 'is_best': True, 'date': '2023-12-17', 'discipline': 'Street'}, 'World Skateboarding Tour - Street Lausanne 2023': {'ranking_points': 314.0, 'ranking_points_new': 314.0, 'end_position': 58, 'is_best': True, 'date': '2023-09-16', 'discipline': 'Street'}, 'World Skateboarding Tour Stop Rome Street 2023': {'ranking_points': 688.0, 'ranking_points_new': 688.0, 'end_position': 31, 'is_best': True, 'date': '2023-06-25', 'discipline': 'Street'}, 'World Street Skateboarding Rome 2022': {'ranking_points': 108.0, 'ranking_points_new': 0.0, 'end_position': 77, 'is_best': False, 'date': '2022-07-03', 'discipline': 'Street'}}, 'rank': 67, 'rank_change': 0, 'birthday': '2004-07-29', 'overview': '', 'height': '', 'weight': None}, {'id': 7471, 'gender': 1, 'age': 12, 'first_name': 'Pacal', 'last_name': 'Teixeira', 'avatar': 'https://wyldata.com/media/athletes/276760643704720914041018689477537184063.jpg', 'awards': [], 'profile_banner': None, 'stance': 2, 'country': {'id': 233, 'name': 'Portugal', 'ioc': 'POR'}, 'sum_points': 2339.0, 'event_stops_scores': {'World Skateboarding Tour - Street Dubai': {'ranking_points': 343.0, 'ranking_points_new': 343.0, 'end_position': 52, 'is_best': True, 'date': '2024-03-10', 'discipline': 'Street'}, 'WST Street World Championship 2023 Tokyo': {'ranking_points': 1391.0, 'ranking_points_new': 1391.0, 'end_position': 41, 'is_best': True, 'date': '2023-12-17', 'discipline': 'Street'}, 'World Skateboarding Tour - Street Lausanne 2023': {'ranking_points': 30.0, 'ranking_points_new': 30.0, 'end_position': 103, 'is_best': False, 'date': '2023-09-16', 'discipline': 'Street'}, 'World Skateboarding Tour Stop Rome Street 2023': {'ranking_points': 45.0, 'ranking_points_new': 45.0, 'end_position': 94, 'is_best': True, 'date': '2023-06-25', 'discipline': 'Street'}, 'Street World Championships Sharjah 2022': {'ranking_points': 560.0, 'ranking_points_new': 560.0, 'end_position': 69, 'is_best': True, 'date': '2023-02-05', 'discipline': 'Street'}}, 'rank': 68, 'rank_change': 0, 'birthday': '2011-08-29', 'overview': '', 'height': '', 'weight': None}, {'id': 4056, 'gender': 1, 'age': 34, 'first_name': 'Denny', 'last_name': 'Pham', 'avatar': 'https://wyldata.com/media/athletes/185629383562804151468512532012579271618.jpg', 'awards': [], 'profile_banner': None, 'stance': 2, 'country': {'id': 153, 'name': 'Germany', 'ioc': 'GER'}, 'sum_points': 2282.0, 'event_stops_scores': {'World Skateboarding Tour - Street Dubai': {'ranking_points': 365.0, 'ranking_points_new': 365.0, 'end_position': 48, 'is_best': True, 'date': '2024-03-10', 'discipline': 'Street'}, 'WST Street World Championship 2023 Tokyo': {'ranking_points': 1012.0, 'ranking_points_new': 1012.0, 'end_position': 62, 'is_best': True, 'date': '2023-12-17', 'discipline': 'Street'}, 'World Skateboarding Tour - Street Lausanne 2023': {'ranking_points': 724.0, 'ranking_points_new': 724.0, 'end_position': 30, 'is_best': True, 'date': '2023-09-16', 'discipline': 'Street'}, 'World Skateboarding Tour Stop Rome Street 2023': {'ranking_points': 30.0, 'ranking_points_new': 30.0, 'end_position': 120, 'is_best': False, 'date': '2023-06-25', 'discipline': 'Street'}, 'Street World Championships Sharjah 2022': {'ranking_points': 181.0, 'ranking_points_new': 181.0, 'end_position': 91, 'is_best': True, 'date': '2023-02-05', 'discipline': 'Street'}, 'World Street Skateboarding Rome 2022': {'ranking_points': 93.0, 'ranking_points_new': 0.0, 'end_position': 80, 'is_best': False, 'date': '2022-07-03', 'discipline': 'Street'}}, 'rank': 69, 'rank_change': 0, 'birthday': '1989-10-17', 'overview': '', 'height': '', 'weight': None}, {'id': 4259, 'gender': 1, 'age': 15, 'first_name': 'Noah', 'last_name': 'De Jaeger', 'avatar': 'https://wyldata.com/media/athletes/113643941460915218472855009725193040257.jpg', 'awards': [], 'profile_banner': None, 'stance': 1, 'country': {'id': 98, 'name': 'Belgium', 'ioc': 'BEL'}, 'sum_points': 2202.0, 'event_stops_scores': {'World Skateboarding Tour - Street Dubai': {'ranking_points': 30.0, 'ranking_points_new': 30.0, 'end_position': 114, 'is_best': False, 'date': '2024-03-10', 'discipline': 'Street'}, 'WST Street World Championship 2023 Tokyo': {'ranking_points': 1251.0, 'ranking_points_new': 1251.0, 'end_position': 48, 'is_best': True, 'date': '2023-12-17', 'discipline': 'Street'}, 'World Skateboarding Tour - Street Lausanne 2023': {'ranking_points': 431.0, 'ranking_points_new': 431.0, 'end_position': 37, 'is_best': True, 'date': '2023-09-16', 'discipline': 'Street'}, 'World Skateboarding Tour Stop Rome Street 2023': {'ranking_points': 365.0, 'ranking_points_new': 365.0, 'end_position': 48, 'is_best': True, 'date': '2023-06-25', 'discipline': 'Street'}, 'Street World Championships Sharjah 2022': {'ranking_points': 155.0, 'ranking_points_new': 155.0, 'end_position': 94, 'is_best': True, 'date': '2023-02-05', 'discipline': 'Street'}, 'World Street Skateboarding Rome 2022': {'ranking_points': 30.0, 'ranking_points_new': 0.0, 'end_position': 118, 'is_best': False, 'date': '2022-07-03', 'discipline': 'Street'}}, 'rank': 70, 'rank_change': 0, 'birthday': '2009-02-23', 'overview': '', 'height': '', 'weight': None}, {'id': 4303, 'gender': 1, 'age': 26, 'first_name': 'Brandon', 'last_name': 'Valjalo', 'avatar': 'https://wyldata.com/media/athletes/297238824860011295718261864388659665313.jpg', 'awards': [{'name': 'Olympic Athlete 2024 Street', 'description': 'Qualified for the Olympic Games Paris 2024 Street'}], 'profile_banner': None, 'stance': 1, 'country': {'id': 239, 'name': 'South Africa', 'ioc': 'RSA'}, 'sum_points': 2181.0, 'event_stops_scores': {'World Skateboarding Tour - Street Dubai': {'ranking_points': 393.0, 'ranking_points_new': 393.0, 'end_position': 43, 'is_best': True, 'date': '2024-03-10', 'discipline': 'Street'}, 'WST Street World Championship 2023 Tokyo': {'ranking_points': 60.0, 'ranking_points_new': 60.0, 'end_position': 111, 'is_best': False, 'date': '2023-12-17', 'discipline': 'Street'}, 'World Skateboarding Tour - Street Lausanne 2023': {'ranking_points': 406.0, 'ranking_points_new': 406.0, 'end_position': 41, 'is_best': True, 'date': '2023-09-16', 'discipline': 'Street'}, 'World Skateboarding Tour Stop Rome Street 2023': {'ranking_points': 354.0, 'ranking_points_new': 354.0, 'end_position': 50, 'is_best': True, 'date': '2023-06-25', 'discipline': 'Street'}, 'Street World Championships Sharjah 2022': {'ranking_points': 1028.0, 'ranking_points_new': 1028.0, 'end_position': 61, 'is_best': True, 'date': '2023-02-05', 'discipline': 'Street'}, 'World Street Skateboarding Rome 2022': {'ranking_points': 172.0, 'ranking_points_new': 0.0, 'end_position': 68, 'is_best': False, 'date': '2022-07-03', 'discipline': 'Street'}}, 'rank': 71, 'rank_change': 0, 'birthday': '1998-07-11', 'overview': '', 'height': '', 'weight': None}, {'id': 4915, 'gender': 1, 'age': 16, 'first_name': 'Jie', 'last_name': 'Zhang', 'avatar': 'https://wyldata.com/media/athletes/265970370500566478887645667068035757072.jpg', 'awards': [], 'profile_banner': None, 'stance': 2, 'country': {'id': 6, 'name': 'China', 'ioc': 'CHN'}, 'sum_points': 2166.0, 'event_stops_scores': {'World Skateboarding Tour - Street Dubai': {'ranking_points': 30.0, 'ranking_points_new': 30.0, 'end_position': 101, 'is_best': False, 'date': '2024-03-10', 'discipline': 'Street'}, 'WST Street World Championship 2023 Tokyo': {'ranking_points': 982.0, 'ranking_points_new': 982.0, 'end_position': 64, 'is_best': True, 'date': '2023-12-17', 'discipline': 'Street'}, 'World Skateboarding Tour - Street Lausanne 2023': {'ranking_points': 62.0, 'ranking_points_new': 62.0, 'end_position': 88, 'is_best': True, 'date': '2023-09-16', 'discipline': 'Street'}, 'World Skateboarding Tour Stop Rome Street 2023': {'ranking_points': 30.0, 'ranking_points_new': 30.0, 'end_position': 128, 'is_best': True, 'date': '2023-06-25', 'discipline': 'Street'}, 'Street World Championships Sharjah 2022': {'ranking_points': 1092.0, 'ranking_points_new': 1092.0, 'end_position': 57, 'is_best': True, 'date': '2023-02-05', 'discipline': 'Street'}}, 'rank': 72, 'rank_change': 0, 'birthday': '2007-09-15', 'overview': '', 'height': '', 'weight': None}, {'id': 4112, 'gender': 1, 'age': 32, 'first_name': 'Maxim', 'last_name': 'Habanec', 'avatar': 'https://wyldata.com/media/athletes/165060474388187474537716556715339551475.jpg', 'awards': [], 'profile_banner': None, 'stance': 1, 'country': {'id': 131, 'name': 'Czech Republic', 'ioc': 'CZE'}, 'sum_points': 2138.0, 'event_stops_scores': {'World Skateboarding Tour - Street Dubai': {'ranking_points': 45.0, 'ranking_points_new': 45.0, 'end_position': 94, 'is_best': False, 'date': '2024-03-10', 'discipline': 'Street'}, 'WST Street World Championship 2023 Tokyo': {'ranking_points': 621.0, 'ranking_points_new': 621.0, 'end_position': 67, 'is_best': True, 'date': '2023-12-17', 'discipline': 'Street'}, 'World Skateboarding Tour - Street Lausanne 2023': {'ranking_points': 309.0, 'ranking_points_new': 309.0, 'end_position': 59, 'is_best': True, 'date': '2023-09-16', 'discipline': 'Street'}, 'World Skateboarding Tour Stop Rome Street 2023': {'ranking_points': 48.0, 'ranking_points_new': 48.0, 'end_position': 93, 'is_best': True, 'date': '2023-06-25', 'discipline': 'Street'}, 'Street World Championships Sharjah 2022': {'ranking_points': 1160.0, 'ranking_points_new': 1160.0, 'end_position': 53, 'is_best': True, 'date': '2023-02-05', 'discipline': 'Street'}}, 'rank': 73, 'rank_change': 0, 'birthday': '1992-02-13', 'overview': '', 'height': '', 'weight': None}, {'id': 4025, 'gender': 1, 'age': 32, 'first_name': 'Oscar', 'last_name': 'Meza', 'avatar': 'https://wyldata.com/media/athletes/298479850776644709009596075923819650064.jpg', 'awards': [], 'profile_banner': None, 'stance': 2, 'country': {'id': 202, 'name': 'Mexico', 'ioc': 'MEX'}, 'sum_points': 2081.0, 'event_stops_scores': {'WST Street World Championship 2023 Tokyo': {'ranking_points': 1059.0, 'ranking_points_new': 1059.0, 'end_position': 59, 'is_best': True, 'date': '2023-12-17', 'discipline': 'Street'}, 'World Skateboarding Tour - Street Lausanne 2023': {'ranking_points': 30.0, 'ranking_points_new': 30.0, 'end_position': 107, 'is_best': False, 'date': '2023-09-16', 'discipline': 'Street'}, 'World Skateboarding Tour Stop Rome Street 2023': {'ranking_points': 33.0, 'ranking_points_new': 33.0, 'end_position': 100, 'is_best': True, 'date': '2023-06-25', 'discipline': 'Street'}, 'Street World Championships Sharjah 2022': {'ranking_points': 590.0, 'ranking_points_new': 590.0, 'end_position': 68, 'is_best': True, 'date': '2023-02-05', 'discipline': 'Street'}, 'World Street Skateboarding Rome 2022': {'ranking_points': 399.0, 'ranking_points_new': 0.0, 'end_position': 42, 'is_best': True, 'date': '2022-07-03', 'discipline': 'Street'}}, 'rank': 74, 'rank_change': 0, 'birthday': '1991-10-08', 'overview': '', 'height': '', 'weight': None}, {'id': 3054, 'gender': 1, 'age': 25, 'first_name': 'Thawatchai', 'last_name': 'Siangoueng', 'avatar': None, 'awards': [], 'profile_banner': None, 'stance': 2, 'country': {'id': 265, 'name': 'Thailand', 'ioc': 'THA'}, 'sum_points': 2052.0, 'event_stops_scores': {'World Skateboarding Tour - Street Dubai': {'ranking_points': 300.0, 'ranking_points_new': 300.0, 'end_position': 61, 'is_best': True, 'date': '2024-03-10', 'discipline': 'Street'}, 'WST Street World Championship 2023 Tokyo': {'ranking_points': 412.0, 'ranking_points_new': 412.0, 'end_position': 75, 'is_best': True, 'date': '2023-12-17', 'discipline': 'Street'}, 'World Skateboarding Tour - Street Lausanne 2023': {'ranking_points': 1049.0, 'ranking_points_new': 1049.0, 'end_position': 26, 'is_best': True, 'date': '2023-09-16', 'discipline': 'Street'}, 'World Skateboarding Tour Stop Rome Street 2023': {'ranking_points': 291.0, 'ranking_points_new': 291.0, 'end_position': 63, 'is_best': True, 'date': '2023-06-25', 'discipline': 'Street'}, 'Street World Championships Sharjah 2022': {'ranking_points': 60.0, 'ranking_points_new': 60.0, 'end_position': 106, 'is_best': False, 'date': '2023-02-05', 'discipline': 'Street'}, 'World Street Skateboarding Rome 2022': {'ranking_points': 30.0, 'ranking_points_new': 0.0, 'end_position': 123, 'is_best': False, 'date': '2022-07-03', 'discipline': 'Street'}}, 'rank': 75, 'rank_change': 0, 'birthday': '1999-08-03', 'overview': '', 'height': '', 'weight': None}, {'id': 2947, 'gender': 1, 'age': 21, 'first_name': 'Marti', 'last_name': 'Atanasov', 'avatar': 'https://wyldata.com/media/athletes/267335606506243026770940925259178133840.jpg', 'awards': [], 'profile_banner': None, 'stance': 2, 'country': {'id': 110, 'name': 'Bulgaria', 'ioc': 'BUL'}, 'sum_points': 1892.0, 'event_stops_scores': {'World Skateboarding Tour - Street Dubai': {'ranking_points': 0.0, 'ranking_points_new': 30.0, 'end_position': 131, 'is_best': False, 'date': '2024-03-10', 'discipline': 'Street'}, 'WST Street World Championship 2023 Tokyo': {'ranking_points': 1160.0, 'ranking_points_new': 1160.0, 'end_position': 53, 'is_best': True, 'date': '2023-12-17', 'discipline': 'Street'}, 'World Skateboarding Tour - Street Lausanne 2023': {'ranking_points': 418.0, 'ranking_points_new': 418.0, 'end_position': 39, 'is_best': True, 'date': '2023-09-16', 'discipline': 'Street'}, 'World Street Skateboarding Rome 2022': {'ranking_points': 314.0, 'ranking_points_new': 0.0, 'end_position': 58, 'is_best': True, 'date': '2022-07-03', 'discipline': 'Street'}}, 'rank': 76, 'rank_change': 0, 'birthday': '2003-07-27', 'overview': '', 'height': '', 'weight': None}, {'id': 4125, 'gender': 1, 'age': 27, 'first_name': 'Alex', 'last_name': 'Decunha', 'avatar': 'https://wyldata.com/media/athletes/137805905416092856345062741012762457687.png', 'awards': [], 'profile_banner': None, 'stance': 2, 'country': {'id': 2, 'name': 'United Kingdom', 'ioc': 'GBR'}, 'sum_points': 1861.0, 'event_stops_scores': {'WST Street World Championship 2023 Tokyo': {'ranking_points': 222.0, 'ranking_points_new': 222.0, 'end_position': 87, 'is_best': True, 'date': '2023-12-17', 'discipline': 'Street'}, 'World Skateboarding Tour - Street Lausanne 2023': {'ranking_points': 120.0, 'ranking_points_new': 120.0, 'end_position': 75, 'is_best': True, 'date': '2023-09-16', 'discipline': 'Street'}, 'World Skateboarding Tour Stop Rome Street 2023': {'ranking_points': 190.0, 'ranking_points_new': 190.0, 'end_position': 66, 'is_best': True, 'date': '2023-06-25', 'discipline': 'Street'}, 'Street World Championships Sharjah 2022': {'ranking_points': 1329.0, 'ranking_points_new': 1329.0, 'end_position': 44, 'is_best': True, 'date': '2023-02-05', 'discipline': 'Street'}, 'World Street Skateboarding Rome 2022': {'ranking_points': 62.0, 'ranking_points_new': 0.0, 'end_position': 88, 'is_best': False, 'date': '2022-07-03', 'discipline': 'Street'}}, 'rank': 77, 'rank_change': 0, 'birthday': '1997-02-03', 'overview': '', 'height': '', 'weight': None}, {'id': 7547, 'gender': 1, 'age': 34, 'first_name': 'Mike', 'last_name': 'Piwowar', 'avatar': None, 'awards': [], 'profile_banner': None, 'stance': 2, 'country': {'id': 3, 'name': 'United States of America', 'ioc': 'USA'}, 'sum_points': 1859.0, 'event_stops_scores': {'World Skateboarding Tour - Street Dubai': {'ranking_points': 763.0, 'ranking_points_new': 763.0, 'end_position': 29, 'is_best': True, 'date': '2024-03-10', 'discipline': 'Street'}, 'WST Street World Championship 2023 Tokyo': {'ranking_points': 532.0, 'ranking_points_new': 532.0, 'end_position': 70, 'is_best': True, 'date': '2023-12-17', 'discipline': 'Street'}, 'World Skateboarding Tour - Street Lausanne 2023': {'ranking_points': 103.0, 'ranking_points_new': 103.0, 'end_position': 78, 'is_best': False, 'date': '2023-09-16', 'discipline': 'Street'}, 'World Skateboarding Tour Stop Rome Street 2023': {'ranking_points': 424.0, 'ranking_points_new': 424.0, 'end_position': 38, 'is_best': True, 'date': '2023-06-25', 'discipline': 'Street'}, 'World Street Skateboarding Rome 2022': {'ranking_points': 140.0, 'ranking_points_new': 0.0, 'end_position': 72, 'is_best': True, 'date': '2022-07-03', 'discipline': 'Street'}}, 'rank': 78, 'rank_change': 0, 'birthday': '1990-05-14', 'overview': '', 'height': '', 'weight': None}, {'id': 3770, 'gender': 1, 'age': 22, 'first_name': 'Daniel', 'last_name': 'Knutzen', 'avatar': 'https://wyldata.com/media/athletes/224352516984477080860624254957440992533.jpg', 'awards': [], 'profile_banner': None, 'stance': 1, 'country': {'id': 220, 'name': 'Norway', 'ioc': 'NOR'}, 'sum_points': 1858.0, 'event_stops_scores': {'World Skateboarding Tour - Street Dubai': {'ranking_points': 333.0, 'ranking_points_new': 333.0, 'end_position': 54, 'is_best': True, 'date': '2024-03-10', 'discipline': 'Street'}, 'WST Street World Championship 2023 Tokyo': {'ranking_points': 1108.0, 'ranking_points_new': 1108.0, 'end_position': 56, 'is_best': True, 'date': '2023-12-17', 'discipline': 'Street'}, 'World Skateboarding Tour - Street Lausanne 2023': {'ranking_points': 39.0, 'ranking_points_new': 39.0, 'end_position': 97, 'is_best': False, 'date': '2023-09-16', 'discipline': 'Street'}, 'World Skateboarding Tour Stop Rome Street 2023': {'ranking_points': 68.0, 'ranking_points_new': 68.0, 'end_position': 86, 'is_best': True, 'date': '2023-06-25', 'discipline': 'Street'}, 'World Street Skateboarding Rome 2022': {'ranking_points': 349.0, 'ranking_points_new': 0.0, 'end_position': 51, 'is_best': True, 'date': '2022-07-03', 'discipline': 'Street'}}, 'rank': 79, 'rank_change': 0, 'birthday': '2002-06-10', 'overview': '', 'height': '', 'weight': None}, {'id': 3784, 'gender': 1, 'age': 24, 'first_name': 'Rio', 'last_name': 'Batan', 'avatar': 'https://wyldata.com/media/athletes/270884492048038584393440526841065078300.jpg', 'awards': [], 'profile_banner': None, 'stance': 1, 'country': {'id': 5, 'name': 'Puerto Rico', 'ioc': 'PUR'}, 'sum_points': 1834.0, 'event_stops_scores': {'WST Street World Championship 2023 Tokyo': {'ranking_points': 353.0, 'ranking_points_new': 353.0, 'end_position': 78, 'is_best': True, 'date': '2023-12-17', 'discipline': 'Street'}, 'World Skateboarding Tour - Street Lausanne 2023': {'ranking_points': 33.0, 'ranking_points_new': 33.0, 'end_position': 100, 'is_best': False, 'date': '2023-09-16', 'discipline': 'Street'}, 'World Skateboarding Tour Stop Rome Street 2023': {'ranking_points': 1295.0, 'ranking_points_new': 1295.0, 'end_position': 24, 'is_best': True, 'date': '2023-06-25', 'discipline': 'Street'}, 'Street World Championships Sharjah 2022': {'ranking_points': 60.0, 'ranking_points_new': 60.0, 'end_position': 118, 'is_best': True, 'date': '2023-02-05', 'discipline': 'Street'}, 'World Street Skateboarding Rome 2022': {'ranking_points': 126.0, 'ranking_points_new': 0.0, 'end_position': 74, 'is_best': True, 'date': '2022-07-03', 'discipline': 'Street'}}, 'rank': 80, 'rank_change': 0, 'birthday': '2000-08-20', 'overview': '', 'height': '', 'weight': None}, {'id': 38787, 'gender': 1, 'age': 15, 'first_name': 'Beau', 'last_name': 'Brunclair', 'avatar': 'https://wyldata.com/media/athletes/157157622656906271311370631137570840154.jpg', 'awards': [], 'profile_banner': None, 'stance': 1, 'country': {'id': 98, 'name': 'Belgium', 'ioc': 'BEL'}, 'sum_points': 1729.0, 'event_stops_scores': {'World Skateboarding Tour - Street Dubai': {'ranking_points': 437.0, 'ranking_points_new': 437.0, 'end_position': 36, 'is_best': True, 'date': '2024-03-10', 'discipline': 'Street'}, 'WST Street World Championship 2023 Tokyo': {'ranking_points': 60.0, 'ranking_points_new': 60.0, 'end_position': 108, 'is_best': False, 'date': '2023-12-17', 'discipline': 'Street'}, 'World Skateboarding Tour - Street Lausanne 2023': {'ranking_points': 343.0, 'ranking_points_new': 343.0, 'end_position': 52, 'is_best': True, 'date': '2023-09-16', 'discipline': 'Street'}, 'World Skateboarding Tour Stop Rome Street 2023': {'ranking_points': 328.0, 'ranking_points_new': 328.0, 'end_position': 55, 'is_best': True, 'date': '2023-06-25', 'discipline': 'Street'}, 'Street World Championships Sharjah 2022': {'ranking_points': 621.0, 'ranking_points_new': 621.0, 'end_position': 67, 'is_best': True, 'date': '2023-02-05', 'discipline': 'Street'}}, 'rank': 81, 'rank_change': 0, 'birthday': '2009-04-24', 'overview': '', 'height': '', 'weight': None}, {'id': 3591, 'gender': 1, 'age': 20, 'first_name': 'Attapon', 'last_name': 'Sampaokang', 'avatar': 'https://wyldata.com/media/athletes/108296800027241424630249121508595718471.jpg', 'awards': [], 'profile_banner': None, 'stance': 1, 'country': {'id': 265, 'name': 'Thailand', 'ioc': 'THA'}, 'sum_points': 1707.0, 'event_stops_scores': {'World Skateboarding Tour - Street Dubai': {'ranking_points': 286.0, 'ranking_points_new': 286.0, 'end_position': 64, 'is_best': True, 'date': '2024-03-10', 'discipline': 'Street'}, 'WST Street World Championship 2023 Tokyo': {'ranking_points': 60.0, 'ranking_points_new': 60.0, 'end_position': 113, 'is_best': True, 'date': '2023-12-17', 'discipline': 'Street'}, 'World Skateboarding Tour - Street Lausanne 2023': {'ranking_points': 318.0, 'ranking_points_new': 318.0, 'end_position': 57, 'is_best': True, 'date': '2023-09-16', 'discipline': 'Street'}, 'World Skateboarding Tour Stop Rome Street 2023': {'ranking_points': 30.0, 'ranking_points_new': 30.0, 'end_position': 130, 'is_best': False, 'date': '2023-06-25', 'discipline': 'Street'}, 'Street World Championships Sharjah 2022': {'ranking_points': 1043.0, 'ranking_points_new': 1043.0, 'end_position': 60, 'is_best': True, 'date': '2023-02-05', 'discipline': 'Street'}}, 'rank': 82, 'rank_change': 0, 'birthday': '2004-08-01', 'overview': '', 'height': '', 'weight': None}, {'id': 3562, 'gender': 1, 'age': 30, 'first_name': 'Napat', 'last_name': 'Wijidjarung', 'avatar': None, 'awards': [], 'profile_banner': None, 'stance': 1, 'country': {'id': 265, 'name': 'Thailand', 'ioc': 'THA'}, 'sum_points': 1634.0, 'event_stops_scores': {'World Skateboarding Tour - Street Dubai': {'ranking_points': 140.0, 'ranking_points_new': 140.0, 'end_position': 72, 'is_best': True, 'date': '2024-03-10', 'discipline': 'Street'}, 'World Skateboarding Tour - Street Lausanne 2023': {'ranking_points': 155.0, 'ranking_points_new': 155.0, 'end_position': 70, 'is_best': True, 'date': '2023-09-16', 'discipline': 'Street'}, 'World Skateboarding Tour Stop Rome Street 2023': {'ranking_points': 30.0, 'ranking_points_new': 30.0, 'end_position': 118, 'is_best': False, 'date': '2023-06-25', 'discipline': 'Street'}, 'Street World Championships Sharjah 2022': {'ranking_points': 1289.0, 'ranking_points_new': 1289.0, 'end_position': 46, 'is_best': True, 'date': '2023-02-05', 'discipline': 'Street'}, 'World Street Skateboarding Rome 2022': {'ranking_points': 50.0, 'ranking_points_new': 0.0, 'end_position': 92, 'is_best': True, 'date': '2022-07-03', 'discipline': 'Street'}}, 'rank': 83, 'rank_change': 0, 'birthday': '1994-08-08', 'overview': '', 'height': '', 'weight': None}, {'id': 7118, 'gender': 1, 'age': 17, 'first_name': 'Vitus', 'last_name': 'Sondrup', 'avatar': 'https://wyldata.com/media/athletes/311540229585592508514702701552835057432.jpg', 'awards': [], 'profile_banner': None, 'stance': 2, 'country': {'id': 132, 'name': 'Denmark', 'ioc': 'DEN'}, 'sum_points': 1584.0, 'event_stops_scores': {'World Skateboarding Tour - Street Dubai': {'ranking_points': 376.0, 'ranking_points_new': 376.0, 'end_position': 46, 'is_best': True, 'date': '2024-03-10', 'discipline': 'Street'}, 'World Skateboarding Tour - Street Lausanne 2023': {'ranking_points': 126.0, 'ranking_points_new': 126.0, 'end_position': 74, 'is_best': False, 'date': '2023-09-16', 'discipline': 'Street'}, 'World Skateboarding Tour Stop Rome Street 2023': {'ranking_points': 458.0, 'ranking_points_new': 458.0, 'end_position': 33, 'is_best': True, 'date': '2023-06-25', 'discipline': 'Street'}, 'Street World Championships Sharjah 2022': {'ranking_points': 319.0, 'ranking_points_new': 319.0, 'end_position': 80, 'is_best': True, 'date': '2023-02-05', 'discipline': 'Street'}, 'World Street Skateboarding Rome 2022': {'ranking_points': 431.0, 'ranking_points_new': 0.0, 'end_position': 37, 'is_best': True, 'date': '2022-07-03', 'discipline': 'Street'}}, 'rank': 84, 'rank_change': 0, 'birthday': '2006-10-10', 'overview': '', 'height': '', 'weight': None}, {'id': 5196, 'gender': 1, 'age': 18, 'first_name': 'Daniel', 'last_name': 'Moragues Coll', 'avatar': 'https://wyldata.com/media/athletes/276054155326203021730787099470550171593.png', 'awards': [], 'profile_banner': None, 'stance': 1, 'country': {'id': 216, 'name': 'Netherlands', 'ioc': 'NED'}, 'sum_points': 1533.0, 'event_stops_scores': {'World Skateboarding Tour - Street Dubai': {'ranking_points': 62.0, 'ranking_points_new': 62.0, 'end_position': 88, 'is_best': True, 'date': '2024-03-10', 'discipline': 'Street'}, 'WST Street World Championship 2023 Tokyo': {'ranking_points': 234.0, 'ranking_points_new': 234.0, 'end_position': 86, 'is_best': True, 'date': '2023-12-17', 'discipline': 'Street'}, 'Street World Championships Sharjah 2022': {'ranking_points': 1178.0, 'ranking_points_new': 1178.0, 'end_position': 52, 'is_best': True, 'date': '2023-02-05', 'discipline': 'Street'}, 'World Street Skateboarding Rome 2022': {'ranking_points': 59.0, 'ranking_points_new': 0.0, 'end_position': 89, 'is_best': True, 'date': '2022-07-03', 'discipline': 'Street'}}, 'rank': 85, 'rank_change': 0, 'birthday': '2006-07-15', 'overview': '', 'height': '', 'weight': None}, {'id': 38783, 'gender': 1, 'age': 19, 'first_name': 'Aimu', 'last_name': 'Yamazuki', 'avatar': None, 'awards': [], 'profile_banner': None, 'stance': None, 'country': {'id': 177, 'name': 'Japan', 'ioc': 'JPN'}, 'sum_points': 1523.0, 'event_stops_scores': {'Street World Championships Sharjah 2022': {'ranking_points': 1523.0, 'ranking_points_new': 1523.0, 'end_position': 35, 'is_best': True, 'date': '2023-02-05', 'discipline': 'Street'}}, 'rank': 86, 'rank_change': 0, 'birthday': '2005-06-17', 'overview': '', 'height': '', 'weight': None}, {'id': 6514, 'gender': 1, 'age': 19, 'first_name': 'Vilem', 'last_name': 'Jakes', 'avatar': 'https://wyldata.com/media/athletes/332938358172655229001182104529350978191.jpg', 'awards': [], 'profile_banner': None, 'stance': 2, 'country': {'id': 131, 'name': 'Czech Republic', 'ioc': 'CZE'}, 'sum_points': 1518.0, 'event_stops_scores': {'World Skateboarding Tour - Street Dubai': {'ranking_points': 53.0, 'ranking_points_new': 53.0, 'end_position': 91, 'is_best': True, 'date': '2024-03-10', 'discipline': 'Street'}, 'WST Street World Championship 2023 Tokyo': {'ranking_points': 1349.0, 'ranking_points_new': 1349.0, 'end_position': 43, 'is_best': True, 'date': '2023-12-17', 'discipline': 'Street'}, 'World Skateboarding Tour - Street Lausanne 2023': {'ranking_points': 37.0, 'ranking_points_new': 37.0, 'end_position': 98, 'is_best': False, 'date': '2023-09-16', 'discipline': 'Street'}, 'World Skateboarding Tour Stop Rome Street 2023': {'ranking_points': 56.0, 'ranking_points_new': 56.0, 'end_position': 90, 'is_best': True, 'date': '2023-06-25', 'discipline': 'Street'}, 'Street World Championships Sharjah 2022': {'ranking_points': 60.0, 'ranking_points_new': 60.0, 'end_position': 112, 'is_best': True, 'date': '2023-02-05', 'discipline': 'Street'}, 'World Street Skateboarding Rome 2022': {'ranking_points': 30.0, 'ranking_points_new': 0.0, 'end_position': 116, 'is_best': False, 'date': '2022-07-03', 'discipline': 'Street'}}, 'rank': 87, 'rank_change': 0, 'birthday': '2004-09-13', 'overview': '', 'height': '', 'weight': None}, {'id': 41043, 'gender': 1, 'age': 17, 'first_name': 'Noah', 'last_name': 'Nagaro', 'avatar': None, 'awards': [], 'profile_banner': None, 'stance': 2, 'country': {'id': 227, 'name': 'Peru', 'ioc': 'PER'}, 'sum_points': 1477.0, 'event_stops_scores': {'World Skateboarding Tour - Street Dubai': {'ranking_points': 318.0, 'ranking_points_new': 318.0, 'end_position': 57, 'is_best': True, 'date': '2024-03-10', 'discipline': 'Street'}, 'WST Street World Championship 2023 Tokyo': {'ranking_points': 1075.0, 'ranking_points_new': 1075.0, 'end_position': 58, 'is_best': True, 'date': '2023-12-17', 'discipline': 'Street'}, 'World Skateboarding Tour - Street Lausanne 2023': {'ranking_points': 84.0, 'ranking_points_new': 84.0, 'end_position': 82, 'is_best': True, 'date': '2023-09-16', 'discipline': 'Street'}}, 'rank': 88, 'rank_change': 0, 'birthday': '2006-12-14', 'overview': '', 'height': '', 'weight': None}]}\n"
     ]
    }
   ],
   "source": [
    "url = \"https://wyldata.com/api/iframes/ranking/olympic-paris/?gender=1&discipline=2&nation&continent&page=2&type=WITH_NC\"\n",
    "referrer = \"https://wyldata.com/iframes/wsk-owsr1-ranking\"\n",
    "headers = {\n",
    "    \"User-Agent\": \"Mozilla/5.0 (Windows NT 10.0; Win64; x64; rv:129.0) Gecko/20100101 Firefox/129.0\",\n",
    "    \"Accept\": \"*/*\",\n",
    "    \"Accept-Language\": \"en-US,en;q=0.5\",\n",
    "    \"Sec-GPC\": \"1\",\n",
    "    \"Sec-Fetch-Dest\": \"empty\",\n",
    "    \"Sec-Fetch-Mode\": \"cors\",\n",
    "    \"Sec-Fetch-Site\": \"same-origin\",\n",
    "    \"Priority\": \"u=4\",\n",
    "    \"Pragma\": \"no-cache\",\n",
    "    \"Cache-Control\": \"no-cache\",\n",
    "    \"referer\": referrer\n",
    "}\n",
    "\n",
    "response = requests.get(url, headers=headers, allow_redirects=False)\n",
    "data = json.loads(response.text)\n",
    "print(data)"
   ]
  },
  {
   "cell_type": "code",
   "execution_count": 43,
   "metadata": {},
   "outputs": [],
   "source": [
    "@cache\n",
    "def get_data(url) -> dict:\n",
    "    \"\"\"Avoid hitting endpoint for same data repeatedly\"\"\"\n",
    "    referrer = \"https://wyldata.com/iframes/wsk-owsr1-ranking\"\n",
    "    headers = {\n",
    "        \"User-Agent\": \"Mozilla/5.0 (Windows NT 10.0; Win64; x64; rv:129.0) Gecko/20100101 Firefox/129.0\",\n",
    "        \"Accept\": \"*/*\",\n",
    "        \"Accept-Language\": \"en-US,en;q=0.5\",\n",
    "        \"Sec-GPC\": \"1\",\n",
    "        \"Sec-Fetch-Dest\": \"empty\",\n",
    "        \"Sec-Fetch-Mode\": \"cors\",\n",
    "        \"Sec-Fetch-Site\": \"same-origin\",\n",
    "        \"Priority\": \"u=4\",\n",
    "        \"Pragma\": \"no-cache\",\n",
    "        \"Cache-Control\": \"no-cache\",\n",
    "        \"referer\": referrer\n",
    "    }\n",
    "\n",
    "    response = requests.get(url, headers=headers, allow_redirects=False)\n",
    "    response.raise_for_status()\n",
    "    data = json.loads(response.text)\n",
    "    return data\n",
    "\n",
    "def get_pages(starting_url, max_pages=5, pause_seconds=1):\n",
    "    count = 0\n",
    "    next_url = starting_url\n",
    "    results = []\n",
    "    while count < max_pages and next_url is not None:\n",
    "        print(\"Fetching page\", next_url)\n",
    "        data = get_data(next_url)\n",
    "        results.extend(data[\"results\"])\n",
    "        next_url = data.get('next')\n",
    "        count +=1\n",
    "        time.sleep(pause_seconds)\n",
    "    \n",
    "    return results\n",
    "\n",
    "class Stance(StrEnum):\n",
    "    REGULAR = auto()\n",
    "    GOOFY = auto()\n",
    "\n",
    "class Style(Flag):\n",
    "    STREET = auto()\n",
    "    PARK = auto()    \n",
    "\n",
    "class Gender(StrEnum):\n",
    "    MALE = auto()\n",
    "    FEMALE = auto()\n",
    "\n",
    "@dataclass\n",
    "class Skater:\n",
    "    id: int\n",
    "    name: str\n",
    "    age: int\n",
    "    stance: Stance\n",
    "    style: Style\n",
    "    country: str\n",
    "    gender: str\n",
    "\n",
    "\n",
    "def make_skater(data: dict, style_fetched: Style):\n",
    "    return Skater(\n",
    "        data[\"id\"],\n",
    "        data[\"first_name\"] + \" \" + data[\"last_name\"],\n",
    "        data[\"age\"],\n",
    "        Stance.REGULAR if data[\"stance\"] == 1 else Stance.GOOFY,\n",
    "        style_fetched,\n",
    "        data[\"country\"][\"name\"],\n",
    "        Gender.MALE if data[\"gender\"] == 1 else Gender.FEMALE\n",
    "    )\n",
    "\n",
    "def make_url(style: Style, gender: Gender):\n",
    "    gender_num = 0 if gender == Gender.FEMALE else 1\n",
    "    style_num = 1 if style == Style.PARK else 2\n",
    "    url = f\"https://wyldata.com/api/iframes/ranking/olympic-paris/?gender={gender_num}&discipline={style_num}&nation&continent&type=WITH_NC\"\n",
    "    return url\n",
    "\n",
    "def make_skater_dict(s: Skater):\n",
    "    return {\n",
    "        \"id\": s.id,\n",
    "        \"name\": s.name,\n",
    "        \"age\": s.age,\n",
    "        \"stance\": str(s.stance),\n",
    "        \"style\": str(s.style),\n",
    "        \"country\": s.country,\n",
    "        \"gender\": str(s.gender)\n",
    "    }\n",
    "\n",
    "def skater_from_dict(s: dict):\n",
    "    return Skater(\n",
    "        s[\"id\"],\n",
    "        s[\"name\"],\n",
    "        s[\"age\"],\n",
    "        Stance.REGULAR if s[\"stance\"] == str(Stance.REGULAR) else Stance.GOOFY,\n",
    "        Style.PARK if s[\"style\"] == str(Style.PARK) else Style.STREET,\n",
    "        s[\"country\"],\n",
    "        Gender.FEMALE if s[\"gender\"] == str(Gender.FEMALE) else Gender.MALE\n",
    "    )\n",
    "\n",
    "\n",
    "''' Disabling this code to avoid refetching data. Use the saved JSON file\n",
    "skaters: list[Skater] = []\n",
    "\n",
    "for style in [Style.PARK, Style.STREET]:\n",
    "    for gender in [Gender.MALE, Gender.FEMALE]:\n",
    "        url = make_url(style, gender)\n",
    "        data = get_pages(url)\n",
    "        skaters.extend(make_skater(s, style) for s in data)\n",
    "\n",
    "with open(\"skateboarding-data/skaters.json\", \"w\") as f:\n",
    "    json.dump([make_skater_dict(s) for s in skaters], f, indent=4)\n",
    "'''\n",
    "\n",
    "\n",
    "with open(\"skateboarding-data/skaters.json\") as f:\n",
    "    skaters = [skater_from_dict(s) for s in json.load(f)]\n"
   ]
  },
  {
   "cell_type": "code",
   "execution_count": 44,
   "metadata": {},
   "outputs": [
    {
     "data": {
      "text/plain": [
       "Skater(id=4233, name='Gavin Bottger', age=17, stance=<Stance.GOOFY: 'goofy'>, style=<Style.PARK: 2>, country='United States of America', gender=<Gender.MALE: 'male'>)"
      ]
     },
     "execution_count": 44,
     "metadata": {},
     "output_type": "execute_result"
    }
   ],
   "source": [
    "skaters[0]"
   ]
  },
  {
   "cell_type": "code",
   "execution_count": 45,
   "metadata": {},
   "outputs": [
    {
     "name": "stdout",
     "output_type": "stream",
     "text": [
      "Rides both events:  Skater(id=2905, name='Jagger Eaton', age=23, stance=<Stance.REGULAR: 'regular'>, style=<Style.STREET: 1>, country='United States of America', gender=<Gender.MALE: 'male'>)\n",
      "Rides both events:  Skater(id=3048, name='Hampus Winberg', age=18, stance=<Stance.REGULAR: 'regular'>, style=<Style.STREET: 1>, country='Sweden', gender=<Gender.MALE: 'male'>)\n",
      "Rides both events:  Skater(id=38796, name='Jett De Haan', age=17, stance=<Stance.REGULAR: 'regular'>, style=<Style.STREET: 1>, country='New Zealand', gender=<Gender.MALE: 'male'>)\n",
      "Rides both events:  Skater(id=4327, name='Simon Karlsson', age=28, stance=<Stance.REGULAR: 'regular'>, style=<Style.STREET: 1>, country='Sweden', gender=<Gender.MALE: 'male'>)\n",
      "Rides both events:  Skater(id=39181, name='Carl Öjert', age=17, stance=<Stance.REGULAR: 'regular'>, style=<Style.STREET: 1>, country='Sweden', gender=<Gender.MALE: 'male'>)\n",
      "Rides both events:  Skater(id=4341, name='Daniela Terol', age=15, stance=<Stance.REGULAR: 'regular'>, style=<Style.STREET: 1>, country='Spain', gender=<Gender.FEMALE: 'female'>)\n",
      "Rides both events:  Skater(id=38453, name='Ailin Arzua', age=17, stance=<Stance.REGULAR: 'regular'>, style=<Style.STREET: 1>, country='Argentina', gender=<Gender.FEMALE: 'female'>)\n",
      "Rides both events:  Skater(id=4273, name='Fay Ebert', age=14, stance=<Stance.REGULAR: 'regular'>, style=<Style.STREET: 1>, country='Canada', gender=<Gender.FEMALE: 'female'>)\n",
      "Rides both events:  Skater(id=8499, name='Minji Gwak', age=17, stance=<Stance.GOOFY: 'goofy'>, style=<Style.STREET: 1>, country='Korea', gender=<Gender.FEMALE: 'female'>)\n",
      "Rides both events:  Skater(id=3832, name='Hyunju Cho', age=17, stance=<Stance.REGULAR: 'regular'>, style=<Style.STREET: 1>, country='Korea', gender=<Gender.FEMALE: 'female'>)\n",
      "Rides both events:  Skater(id=3314, name='Hedda Hjertberg', age=16, stance=<Stance.GOOFY: 'goofy'>, style=<Style.STREET: 1>, country='Sweden', gender=<Gender.FEMALE: 'female'>)\n",
      "Merged 11 items.\n"
     ]
    }
   ],
   "source": [
    "# Find skaters in both styles and merge them\n",
    "skaters_by_id: dict[int, Skater] = {}\n",
    "for s in skaters:\n",
    "    if s.id in skaters_by_id:\n",
    "        print(\"Rides both events: \", s)\n",
    "        skaters_by_id[s.id].style |= s.style\n",
    "    else:\n",
    "        skaters_by_id[s.id] = s\n",
    "\n",
    "# Only 12 out of ~600 skaters compete in both events\n",
    "original_n = len(skaters)\n",
    "skaters = skaters_by_id.values()\n",
    "print(f\"Merged {original_n - len(skaters)} items.\")"
   ]
  },
  {
   "cell_type": "code",
   "execution_count": 46,
   "metadata": {},
   "outputs": [
    {
     "name": "stdout",
     "output_type": "stream",
     "text": [
      "Out of 620 skaters \n",
      "291 ride regular (47%) and \n",
      "329 ride goofy (53%)\n"
     ]
    }
   ],
   "source": [
    "# Overall numbers\n",
    "def calculate_distro(skaters: list[Skater]):\n",
    "    goofy_count = len([s for s in skaters if s.stance == Stance.GOOFY])\n",
    "    regular_count = len([s for s in skaters if s.stance == Stance.REGULAR])\n",
    "    n = len(skaters)\n",
    "\n",
    "    print(f\"Out of {n} skaters \\n{regular_count} ride regular ({100*regular_count/n:.0f}%) and \\n{goofy_count} ride goofy ({100*goofy_count/n:.0f}%)\")\n",
    "\n",
    "calculate_distro(skaters)"
   ]
  },
  {
   "cell_type": "code",
   "execution_count": 47,
   "metadata": {},
   "outputs": [
    {
     "name": "stdout",
     "output_type": "stream",
     "text": [
      "For Park events\n",
      "Out of 281 skaters \n",
      "143 ride regular (51%) and \n",
      "138 ride goofy (49%)\n",
      "-----------------------\n",
      "\n",
      "For Street events\n",
      "Out of 350 skaters \n",
      "157 ride regular (45%) and \n",
      "193 ride goofy (55%)\n"
     ]
    }
   ],
   "source": [
    "# By Event style:\n",
    "\n",
    "print(\"For Park events\")\n",
    "calculate_distro([s for s in skaters if (s.style & Style.PARK)])\n",
    "print(\"-----------------------\\n\")\n",
    "\n",
    "print(\"For Street events\")\n",
    "calculate_distro([s for s in skaters if (s.style & Style.STREET)])"
   ]
  },
  {
   "cell_type": "code",
   "execution_count": 67,
   "metadata": {},
   "outputs": [
    {
     "name": "stdout",
     "output_type": "stream",
     "text": [
      "21 skaters missing age\n",
      "\n",
      "\n",
      "Skaters older than 25\n",
      "Out of 168 skaters \n",
      "67 ride regular (40%) and \n",
      "101 ride goofy (60%)\n",
      "-----------------------\n",
      "\n",
      "Skaters 18-25\n",
      "Out of 228 skaters \n",
      "111 ride regular (49%) and \n",
      "117 ride goofy (51%)\n",
      "-----------------------\n",
      "\n",
      "Skaters younger than 18\n",
      "Out of 203 skaters \n",
      "100 ride regular (49%) and \n",
      "103 ride goofy (51%)\n"
     ]
    }
   ],
   "source": [
    "# By age\n",
    "aged = [s for s in skaters if s.age is not None]\n",
    "print(f\"{len(skaters) - len(aged)} skaters missing age\")\n",
    "print(\"\\n\")\n",
    "\n",
    "print(\"Skaters older than 25\")\n",
    "calculate_distro([s for s in aged if s.age >= 25])\n",
    "print(\"-----------------------\\n\")\n",
    "\n",
    "print(\"Skaters 18-25\")\n",
    "calculate_distro([s for s in aged if s.age >= 18 and s.age < 25])\n",
    "print(\"-----------------------\\n\")\n",
    "\n",
    "print(\"Skaters younger than 18\")\n",
    "calculate_distro([s for s in aged if s.age < 18])\n"
   ]
  },
  {
   "cell_type": "code",
   "execution_count": 60,
   "metadata": {},
   "outputs": [
    {
     "name": "stdout",
     "output_type": "stream",
     "text": [
      "[('United States of America', 50), ('Brazil', 48), ('Japan', 45), ('Australia', 33), ('Mexico', 26)]\n",
      "Skaters in United States of America\n",
      "Out of 50 skaters \n",
      "25 ride regular (50%) and \n",
      "25 ride goofy (50%)\n",
      "-----------------------\n",
      "\n",
      "Skaters in Brazil\n",
      "Out of 48 skaters \n",
      "23 ride regular (48%) and \n",
      "25 ride goofy (52%)\n",
      "-----------------------\n",
      "\n",
      "Skaters in Japan\n",
      "Out of 45 skaters \n",
      "29 ride regular (64%) and \n",
      "16 ride goofy (36%)\n",
      "-----------------------\n",
      "\n",
      "Skaters in Australia\n",
      "Out of 33 skaters \n",
      "23 ride regular (70%) and \n",
      "10 ride goofy (30%)\n",
      "-----------------------\n",
      "\n",
      "Skaters in Mexico\n",
      "Out of 26 skaters \n",
      "11 ride regular (42%) and \n",
      "15 ride goofy (58%)\n",
      "-----------------------\n",
      "\n",
      "Skaters everywhere else\n",
      "Out of 418 skaters \n",
      "180 ride regular (43%) and \n",
      "238 ride goofy (57%)\n"
     ]
    }
   ],
   "source": [
    "# By Country\n",
    "from collections import Counter\n",
    "\n",
    "country_count = Counter([s.country for s in skaters])\n",
    "most_common_countries = country_count.most_common(5)\n",
    "print(most_common_countries)\n",
    "\n",
    "for country, count in most_common_countries:\n",
    "    print(f\"Skaters in {country}\")\n",
    "    calculate_distro([s for s in skaters if s.country == country])\n",
    "    print(\"-----------------------\\n\")\n",
    "\n",
    "print(f\"Skaters everywhere else\")\n",
    "common_country_names = [c[0] for c in most_common_countries]\n",
    "calculate_distro([s for s in skaters if s.country not in common_country_names])"
   ]
  },
  {
   "cell_type": "code",
   "execution_count": 63,
   "metadata": {},
   "outputs": [
    {
     "name": "stdout",
     "output_type": "stream",
     "text": [
      "female Skaters\n",
      "Out of 217 skaters \n",
      "109 ride regular (50%) and \n",
      "108 ride goofy (50%)\n",
      "-----------------------\n",
      "\n",
      "male Skaters\n",
      "Out of 403 skaters \n",
      "182 ride regular (45%) and \n",
      "221 ride goofy (55%)\n",
      "-----------------------\n",
      "\n"
     ]
    }
   ],
   "source": [
    "# By gender\n",
    "for gender in [Gender.FEMALE, Gender.MALE]:\n",
    "    print(f\"{gender} Skaters\")\n",
    "    calculate_distro([s for s in skaters if s.gender == gender])\n",
    "    print(\"-----------------------\\n\")"
   ]
  },
  {
   "cell_type": "code",
   "execution_count": null,
   "metadata": {},
   "outputs": [],
   "source": []
  }
 ],
 "metadata": {
  "kernelspec": {
   "display_name": ".venv",
   "language": "python",
   "name": "python3"
  },
  "language_info": {
   "codemirror_mode": {
    "name": "ipython",
    "version": 3
   },
   "file_extension": ".py",
   "mimetype": "text/x-python",
   "name": "python",
   "nbconvert_exporter": "python",
   "pygments_lexer": "ipython3",
   "version": "3.12.5"
  }
 },
 "nbformat": 4,
 "nbformat_minor": 2
}
