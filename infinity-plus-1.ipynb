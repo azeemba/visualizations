{
 "cells": [
  {
   "cell_type": "code",
   "execution_count": 2,
   "id": "87233cde",
   "metadata": {},
   "outputs": [
    {
     "data": {
      "text/html": [
       "<pre style=\"white-space:pre;overflow-x:auto;line-height:normal;font-family:Menlo,'DejaVu Sans Mono',consolas,'Courier New',monospace\">Manim Community <span style=\"color: #008000; text-decoration-color: #008000\">v0.16.0.post0</span>\n",
       "\n",
       "</pre>\n"
      ],
      "text/plain": [
       "Manim Community \u001b[32mv0.\u001b[0m\u001b[32m16.0\u001b[0m\u001b[32m.post0\u001b[0m\n",
       "\n"
      ]
     },
     "metadata": {},
     "output_type": "display_data"
    }
   ],
   "source": [
    "from manim import *\n",
    "\n",
    "config.verbosity = \"WARNING\""
   ]
  },
  {
   "cell_type": "code",
   "execution_count": null,
   "id": "92e58563",
   "metadata": {},
   "outputs": [
    {
     "name": "stderr",
     "output_type": "stream",
     "text": [
      "                                                                                \r"
     ]
    },
    {
     "data": {
      "text/html": [
       "<video src=\"media/jupyter/CountAllIntegers@2025-05-19@09-58-09.mp4\" controls autoplay loop style=\"max-width: 60%;\"  >\n",
       "      Your browser does not support the <code>video</code> element.\n",
       "    </video>"
      ],
      "text/plain": [
       "<IPython.core.display.Video object>"
      ]
     },
     "metadata": {},
     "output_type": "display_data"
    }
   ],
   "source": [
    "%%manim --quality=m CountAllIntegers\n",
    "\n",
    "import numpy as np\n",
    "import math\n",
    "\n",
    "class CountAllIntegers(Scene):\n",
    "    def construct(self):\n",
    "        \"\"\"\n",
    "        Draws a number line from -5 to 5\n",
    "        The animates \"counting\" the number line by showing\n",
    "        a new number above the number line. Starting with 0 over 0,\n",
    "        1 over 1, then 2 over -1, then 3 over 2, 4 over -2 and so on.\n",
    "        \"\"\"\n",
    "        self.camera.background_color = \"#d6e8e1\"\n",
    "        number_line = NumberLine(x_range=[-3, 3, 1], length=10, include_numbers=True, color=BLACK, font_size=46, stroke_width=4)\n",
    "        for number in number_line.numbers:\n",
    "            number.set_color(BLACK)\n",
    "        self.play(Create(number_line))\n",
    "        # self.play(FadeIn(number_line), run_time=0.5)\n",
    "        self.wait(0.5)\n",
    "\n",
    "\n",
    "        positions = [0]\n",
    "        for n in range(1, 4):\n",
    "            positions.append(n)\n",
    "            positions.append(-n)\n",
    "\n",
    "        count = 0\n",
    "        shown = set()\n",
    "        for pos in positions:\n",
    "            if pos in shown or pos < -3 or pos > 3:\n",
    "                continue\n",
    "            shown.add(pos)\n",
    "            count += 1\n",
    "            label = Integer(count, font_size=60, color=\"#8a2b16\")\n",
    "            label.next_to(number_line.n2p(pos), UP, buff=1 if pos < 0 else 0.25)\n",
    "            # label.set_color(\"#d56e57\")\n",
    "            self.play(FadeIn(label), run_time=0.5)\n",
    "            self.wait(0.4)\n",
    "        \n",
    "        self.wait(3)\n"
   ]
  },
  {
   "cell_type": "code",
   "execution_count": 48,
   "id": "4c9005d1",
   "metadata": {},
   "outputs": [
    {
     "name": "stderr",
     "output_type": "stream",
     "text": [
      "                                                                                 \r"
     ]
    },
    {
     "data": {
      "text/html": [
       "<video src=\"media/jupyter/CountAllIntegersWithArrows@2025-05-19@19-01-52.mp4\" controls autoplay loop style=\"max-width: 60%;\"  >\n",
       "      Your browser does not support the <code>video</code> element.\n",
       "    </video>"
      ],
      "text/plain": [
       "<IPython.core.display.Video object>"
      ]
     },
     "metadata": {},
     "output_type": "display_data"
    }
   ],
   "source": [
    "%%manim --quality=m CountAllIntegersWithArrows\n",
    "\n",
    "class CountAllIntegersWithArrows(Scene):\n",
    "    def construct(self):\n",
    "        \"\"\"\n",
    "        Draws a number line from -5 to 5\n",
    "        The animates \"counting\" the number line by showing\n",
    "        a new number above the number line. Starting with 0 over 0,\n",
    "        1 over 1, then 2 over -1, then 3 over 2, 4 over -2 and so on.\n",
    "        \"\"\"\n",
    "        self.camera.background_color = \"#d6e8e1\"\n",
    "        number_line = NumberLine(x_range=[-3, 3, 1], length=10, include_numbers=True, color=BLACK, font_size=46, stroke_width=4)\n",
    "        number_line.shift(UP * 1.25)\n",
    "        for number in number_line.numbers:\n",
    "            number.set_color(BLACK)\n",
    "        self.play(FadeIn(number_line), run_time=0.2)\n",
    "        # self.play(FadeIn(number_line), run_time=0.5)\n",
    "        self.wait(0.5)\n",
    "\n",
    "\n",
    "        positions = [0]\n",
    "        for n in range(1, 4):\n",
    "            positions.append(n)\n",
    "            positions.append(-n)\n",
    "\n",
    "        count = 0\n",
    "        shown = set()\n",
    "        last_pos = None\n",
    "        for pos in positions:\n",
    "            if pos in shown or pos < -3 or pos > 3:\n",
    "                continue\n",
    "            shown.add(pos)\n",
    "            count += 1\n",
    "            color = \"#8a2b16\" if pos > 0 else \"#ccad13\"\n",
    "            label = Integer(count, font_size=60, color=color)\n",
    "            label.next_to(number_line.n2p(pos), UP)\n",
    "            # Draw a curving arrow from last_pos to pos\n",
    "            if last_pos is not None:\n",
    "                start = number_line.n2p(last_pos)\n",
    "                end = number_line.n2p(pos)\n",
    "                # Use a CurvedArrow with angle depending on direction\n",
    "                angle = 120*math.pi/180 if pos > last_pos else -120*math.pi/180\n",
    "                arrow = CurvedArrow(start, end, angle=angle, color=color, stroke_width=6)\n",
    "                self.play(Create(arrow), run_time=0.5)\n",
    "            self.play(FadeIn(label), run_time=0.5)\n",
    "            self.wait(0.4)\n",
    "            last_pos = pos\n",
    "        self.wait(3)"
   ]
  }
 ],
 "metadata": {
  "kernelspec": {
   "display_name": ".venv",
   "language": "python",
   "name": "python3"
  },
  "language_info": {
   "codemirror_mode": {
    "name": "ipython",
    "version": 3
   },
   "file_extension": ".py",
   "mimetype": "text/x-python",
   "name": "python",
   "nbconvert_exporter": "python",
   "pygments_lexer": "ipython3",
   "version": "3.10.12"
  }
 },
 "nbformat": 4,
 "nbformat_minor": 5
}
